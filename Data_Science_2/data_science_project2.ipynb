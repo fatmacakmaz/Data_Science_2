{
 "cells": [
  {
   "cell_type": "markdown",
   "metadata": {},
   "source": [
    "## DESCRIPTIVE DATA ANALYSIS"
   ]
  },
  {
   "cell_type": "code",
   "execution_count": 1,
   "metadata": {},
   "outputs": [
    {
     "data": {
      "text/html": [
       "<div>\n",
       "<style scoped>\n",
       "    .dataframe tbody tr th:only-of-type {\n",
       "        vertical-align: middle;\n",
       "    }\n",
       "\n",
       "    .dataframe tbody tr th {\n",
       "        vertical-align: top;\n",
       "    }\n",
       "\n",
       "    .dataframe thead th {\n",
       "        text-align: right;\n",
       "    }\n",
       "</style>\n",
       "<table border=\"1\" class=\"dataframe\">\n",
       "  <thead>\n",
       "    <tr style=\"text-align: right;\">\n",
       "      <th></th>\n",
       "      <th>ID</th>\n",
       "      <th>year</th>\n",
       "      <th>loan_limit</th>\n",
       "      <th>Gender</th>\n",
       "      <th>approv_in_adv</th>\n",
       "      <th>loan_type</th>\n",
       "      <th>loan_purpose</th>\n",
       "      <th>Credit_Worthiness</th>\n",
       "      <th>open_credit</th>\n",
       "      <th>business_or_commercial</th>\n",
       "      <th>...</th>\n",
       "      <th>credit_type</th>\n",
       "      <th>Credit_Score</th>\n",
       "      <th>co-applicant_credit_type</th>\n",
       "      <th>age</th>\n",
       "      <th>submission_of_application</th>\n",
       "      <th>LTV</th>\n",
       "      <th>Region</th>\n",
       "      <th>Security_Type</th>\n",
       "      <th>Status</th>\n",
       "      <th>dtir1</th>\n",
       "    </tr>\n",
       "  </thead>\n",
       "  <tbody>\n",
       "    <tr>\n",
       "      <th>0</th>\n",
       "      <td>24890</td>\n",
       "      <td>2019</td>\n",
       "      <td>cf</td>\n",
       "      <td>Sex Not Available</td>\n",
       "      <td>nopre</td>\n",
       "      <td>type1</td>\n",
       "      <td>p1</td>\n",
       "      <td>l1</td>\n",
       "      <td>nopc</td>\n",
       "      <td>nob/c</td>\n",
       "      <td>...</td>\n",
       "      <td>EXP</td>\n",
       "      <td>758</td>\n",
       "      <td>CIB</td>\n",
       "      <td>25-34</td>\n",
       "      <td>to_inst</td>\n",
       "      <td>98.728814</td>\n",
       "      <td>south</td>\n",
       "      <td>direct</td>\n",
       "      <td>1</td>\n",
       "      <td>45.0</td>\n",
       "    </tr>\n",
       "    <tr>\n",
       "      <th>1</th>\n",
       "      <td>24891</td>\n",
       "      <td>2019</td>\n",
       "      <td>cf</td>\n",
       "      <td>Male</td>\n",
       "      <td>nopre</td>\n",
       "      <td>type2</td>\n",
       "      <td>p1</td>\n",
       "      <td>l1</td>\n",
       "      <td>nopc</td>\n",
       "      <td>b/c</td>\n",
       "      <td>...</td>\n",
       "      <td>EQUI</td>\n",
       "      <td>552</td>\n",
       "      <td>EXP</td>\n",
       "      <td>55-64</td>\n",
       "      <td>to_inst</td>\n",
       "      <td>NaN</td>\n",
       "      <td>North</td>\n",
       "      <td>direct</td>\n",
       "      <td>1</td>\n",
       "      <td>NaN</td>\n",
       "    </tr>\n",
       "    <tr>\n",
       "      <th>2</th>\n",
       "      <td>24892</td>\n",
       "      <td>2019</td>\n",
       "      <td>cf</td>\n",
       "      <td>Male</td>\n",
       "      <td>pre</td>\n",
       "      <td>type1</td>\n",
       "      <td>p1</td>\n",
       "      <td>l1</td>\n",
       "      <td>nopc</td>\n",
       "      <td>nob/c</td>\n",
       "      <td>...</td>\n",
       "      <td>EXP</td>\n",
       "      <td>834</td>\n",
       "      <td>CIB</td>\n",
       "      <td>35-44</td>\n",
       "      <td>to_inst</td>\n",
       "      <td>80.019685</td>\n",
       "      <td>south</td>\n",
       "      <td>direct</td>\n",
       "      <td>0</td>\n",
       "      <td>46.0</td>\n",
       "    </tr>\n",
       "    <tr>\n",
       "      <th>3</th>\n",
       "      <td>24893</td>\n",
       "      <td>2019</td>\n",
       "      <td>cf</td>\n",
       "      <td>Male</td>\n",
       "      <td>nopre</td>\n",
       "      <td>type1</td>\n",
       "      <td>p4</td>\n",
       "      <td>l1</td>\n",
       "      <td>nopc</td>\n",
       "      <td>nob/c</td>\n",
       "      <td>...</td>\n",
       "      <td>EXP</td>\n",
       "      <td>587</td>\n",
       "      <td>CIB</td>\n",
       "      <td>45-54</td>\n",
       "      <td>not_inst</td>\n",
       "      <td>69.376900</td>\n",
       "      <td>North</td>\n",
       "      <td>direct</td>\n",
       "      <td>0</td>\n",
       "      <td>42.0</td>\n",
       "    </tr>\n",
       "    <tr>\n",
       "      <th>4</th>\n",
       "      <td>24894</td>\n",
       "      <td>2019</td>\n",
       "      <td>cf</td>\n",
       "      <td>Joint</td>\n",
       "      <td>pre</td>\n",
       "      <td>type1</td>\n",
       "      <td>p1</td>\n",
       "      <td>l1</td>\n",
       "      <td>nopc</td>\n",
       "      <td>nob/c</td>\n",
       "      <td>...</td>\n",
       "      <td>CRIF</td>\n",
       "      <td>602</td>\n",
       "      <td>EXP</td>\n",
       "      <td>25-34</td>\n",
       "      <td>not_inst</td>\n",
       "      <td>91.886544</td>\n",
       "      <td>North</td>\n",
       "      <td>direct</td>\n",
       "      <td>0</td>\n",
       "      <td>39.0</td>\n",
       "    </tr>\n",
       "  </tbody>\n",
       "</table>\n",
       "<p>5 rows × 34 columns</p>\n",
       "</div>"
      ],
      "text/plain": [
       "      ID  year loan_limit             Gender approv_in_adv loan_type  \\\n",
       "0  24890  2019         cf  Sex Not Available         nopre     type1   \n",
       "1  24891  2019         cf               Male         nopre     type2   \n",
       "2  24892  2019         cf               Male           pre     type1   \n",
       "3  24893  2019         cf               Male         nopre     type1   \n",
       "4  24894  2019         cf              Joint           pre     type1   \n",
       "\n",
       "  loan_purpose Credit_Worthiness open_credit business_or_commercial  ...  \\\n",
       "0           p1                l1        nopc                  nob/c  ...   \n",
       "1           p1                l1        nopc                    b/c  ...   \n",
       "2           p1                l1        nopc                  nob/c  ...   \n",
       "3           p4                l1        nopc                  nob/c  ...   \n",
       "4           p1                l1        nopc                  nob/c  ...   \n",
       "\n",
       "   credit_type  Credit_Score  co-applicant_credit_type    age  \\\n",
       "0          EXP           758                       CIB  25-34   \n",
       "1         EQUI           552                       EXP  55-64   \n",
       "2          EXP           834                       CIB  35-44   \n",
       "3          EXP           587                       CIB  45-54   \n",
       "4         CRIF           602                       EXP  25-34   \n",
       "\n",
       "   submission_of_application        LTV Region Security_Type  Status dtir1  \n",
       "0                    to_inst  98.728814  south        direct       1  45.0  \n",
       "1                    to_inst        NaN  North        direct       1   NaN  \n",
       "2                    to_inst  80.019685  south        direct       0  46.0  \n",
       "3                   not_inst  69.376900  North        direct       0  42.0  \n",
       "4                   not_inst  91.886544  North        direct       0  39.0  \n",
       "\n",
       "[5 rows x 34 columns]"
      ]
     },
     "execution_count": 1,
     "metadata": {},
     "output_type": "execute_result"
    }
   ],
   "source": [
    "import numpy as np\n",
    "import pandas as pd\n",
    "import seaborn as sns \n",
    "import matplotlib.pyplot as plt\n",
    "\n",
    "df= pd.read_csv(\"data.csv\") \n",
    " \n",
    "df.head() ## first 5 contents of data (default)"
   ]
  },
  {
   "cell_type": "code",
   "execution_count": 2,
   "metadata": {},
   "outputs": [
    {
     "data": {
      "text/plain": [
       "5054780"
      ]
     },
     "execution_count": 2,
     "metadata": {},
     "output_type": "execute_result"
    }
   ],
   "source": [
    "df.size  ## data count of data set"
   ]
  },
  {
   "cell_type": "code",
   "execution_count": 3,
   "metadata": {},
   "outputs": [
    {
     "data": {
      "text/plain": [
       "(148670, 34)"
      ]
     },
     "execution_count": 3,
     "metadata": {},
     "output_type": "execute_result"
    }
   ],
   "source": [
    "df.shape ## number of rows and columns "
   ]
  },
  {
   "cell_type": "code",
   "execution_count": 4,
   "metadata": {},
   "outputs": [
    {
     "data": {
      "text/plain": [
       "ID                             int64\n",
       "year                           int64\n",
       "loan_limit                    object\n",
       "Gender                        object\n",
       "approv_in_adv                 object\n",
       "loan_type                     object\n",
       "loan_purpose                  object\n",
       "Credit_Worthiness             object\n",
       "open_credit                   object\n",
       "business_or_commercial        object\n",
       "loan_amount                    int64\n",
       "rate_of_interest             float64\n",
       "Interest_rate_spread         float64\n",
       "Upfront_charges              float64\n",
       "term                         float64\n",
       "Neg_ammortization             object\n",
       "interest_only                 object\n",
       "lump_sum_payment              object\n",
       "property_value               float64\n",
       "construction_type             object\n",
       "occupancy_type                object\n",
       "Secured_by                    object\n",
       "total_units                   object\n",
       "income                       float64\n",
       "credit_type                   object\n",
       "Credit_Score                   int64\n",
       "co-applicant_credit_type      object\n",
       "age                           object\n",
       "submission_of_application     object\n",
       "LTV                          float64\n",
       "Region                        object\n",
       "Security_Type                 object\n",
       "Status                         int64\n",
       "dtir1                        float64\n",
       "dtype: object"
      ]
     },
     "execution_count": 4,
     "metadata": {},
     "output_type": "execute_result"
    }
   ],
   "source": [
    "df.dtypes  ## data types of the columns"
   ]
  },
  {
   "cell_type": "code",
   "execution_count": 5,
   "metadata": {},
   "outputs": [
    {
     "name": "stdout",
     "output_type": "stream",
     "text": [
      "<class 'pandas.core.frame.DataFrame'>\n",
      "RangeIndex: 148670 entries, 0 to 148669\n",
      "Data columns (total 34 columns):\n",
      " #   Column                     Non-Null Count   Dtype  \n",
      "---  ------                     --------------   -----  \n",
      " 0   ID                         148670 non-null  int64  \n",
      " 1   year                       148670 non-null  int64  \n",
      " 2   loan_limit                 145326 non-null  object \n",
      " 3   Gender                     148670 non-null  object \n",
      " 4   approv_in_adv              147762 non-null  object \n",
      " 5   loan_type                  148670 non-null  object \n",
      " 6   loan_purpose               148536 non-null  object \n",
      " 7   Credit_Worthiness          148670 non-null  object \n",
      " 8   open_credit                148670 non-null  object \n",
      " 9   business_or_commercial     148670 non-null  object \n",
      " 10  loan_amount                148670 non-null  int64  \n",
      " 11  rate_of_interest           112231 non-null  float64\n",
      " 12  Interest_rate_spread       112031 non-null  float64\n",
      " 13  Upfront_charges            109028 non-null  float64\n",
      " 14  term                       148629 non-null  float64\n",
      " 15  Neg_ammortization          148549 non-null  object \n",
      " 16  interest_only              148670 non-null  object \n",
      " 17  lump_sum_payment           148670 non-null  object \n",
      " 18  property_value             133572 non-null  float64\n",
      " 19  construction_type          148670 non-null  object \n",
      " 20  occupancy_type             148670 non-null  object \n",
      " 21  Secured_by                 148670 non-null  object \n",
      " 22  total_units                148670 non-null  object \n",
      " 23  income                     139520 non-null  float64\n",
      " 24  credit_type                148670 non-null  object \n",
      " 25  Credit_Score               148670 non-null  int64  \n",
      " 26  co-applicant_credit_type   148670 non-null  object \n",
      " 27  age                        148470 non-null  object \n",
      " 28  submission_of_application  148470 non-null  object \n",
      " 29  LTV                        133572 non-null  float64\n",
      " 30  Region                     148670 non-null  object \n",
      " 31  Security_Type              148670 non-null  object \n",
      " 32  Status                     148670 non-null  int64  \n",
      " 33  dtir1                      124549 non-null  float64\n",
      "dtypes: float64(8), int64(5), object(21)\n",
      "memory usage: 38.6+ MB\n"
     ]
    }
   ],
   "source": [
    "df.info() "
   ]
  },
  {
   "cell_type": "code",
   "execution_count": 6,
   "metadata": {},
   "outputs": [
    {
     "data": {
      "text/plain": [
       "ID                           148670\n",
       "year                         148670\n",
       "loan_limit                   145326\n",
       "Gender                       148670\n",
       "approv_in_adv                147762\n",
       "loan_type                    148670\n",
       "loan_purpose                 148536\n",
       "Credit_Worthiness            148670\n",
       "open_credit                  148670\n",
       "business_or_commercial       148670\n",
       "loan_amount                  148670\n",
       "rate_of_interest             112231\n",
       "Interest_rate_spread         112031\n",
       "Upfront_charges              109028\n",
       "term                         148629\n",
       "Neg_ammortization            148549\n",
       "interest_only                148670\n",
       "lump_sum_payment             148670\n",
       "property_value               133572\n",
       "construction_type            148670\n",
       "occupancy_type               148670\n",
       "Secured_by                   148670\n",
       "total_units                  148670\n",
       "income                       139520\n",
       "credit_type                  148670\n",
       "Credit_Score                 148670\n",
       "co-applicant_credit_type     148670\n",
       "age                          148470\n",
       "submission_of_application    148470\n",
       "LTV                          133572\n",
       "Region                       148670\n",
       "Security_Type                148670\n",
       "Status                       148670\n",
       "dtir1                        124549\n",
       "dtype: int64"
      ]
     },
     "execution_count": 6,
     "metadata": {},
     "output_type": "execute_result"
    }
   ],
   "source": [
    "df.count() ## total data information in each column"
   ]
  },
  {
   "cell_type": "code",
   "execution_count": 7,
   "metadata": {},
   "outputs": [
    {
     "data": {
      "text/html": [
       "<div>\n",
       "<style scoped>\n",
       "    .dataframe tbody tr th:only-of-type {\n",
       "        vertical-align: middle;\n",
       "    }\n",
       "\n",
       "    .dataframe tbody tr th {\n",
       "        vertical-align: top;\n",
       "    }\n",
       "\n",
       "    .dataframe thead th {\n",
       "        text-align: right;\n",
       "    }\n",
       "</style>\n",
       "<table border=\"1\" class=\"dataframe\">\n",
       "  <thead>\n",
       "    <tr style=\"text-align: right;\">\n",
       "      <th></th>\n",
       "      <th>count</th>\n",
       "      <th>mean</th>\n",
       "      <th>std</th>\n",
       "      <th>min</th>\n",
       "      <th>25%</th>\n",
       "      <th>50%</th>\n",
       "      <th>75%</th>\n",
       "      <th>max</th>\n",
       "    </tr>\n",
       "  </thead>\n",
       "  <tbody>\n",
       "    <tr>\n",
       "      <th>ID</th>\n",
       "      <td>148670.0</td>\n",
       "      <td>99224.500000</td>\n",
       "      <td>42917.476598</td>\n",
       "      <td>24890.000000</td>\n",
       "      <td>62057.25000</td>\n",
       "      <td>99224.50000</td>\n",
       "      <td>136391.750000</td>\n",
       "      <td>1.735590e+05</td>\n",
       "    </tr>\n",
       "    <tr>\n",
       "      <th>year</th>\n",
       "      <td>148670.0</td>\n",
       "      <td>2019.000000</td>\n",
       "      <td>0.000000</td>\n",
       "      <td>2019.000000</td>\n",
       "      <td>2019.00000</td>\n",
       "      <td>2019.00000</td>\n",
       "      <td>2019.000000</td>\n",
       "      <td>2.019000e+03</td>\n",
       "    </tr>\n",
       "    <tr>\n",
       "      <th>loan_amount</th>\n",
       "      <td>148670.0</td>\n",
       "      <td>331117.743997</td>\n",
       "      <td>183909.310127</td>\n",
       "      <td>16500.000000</td>\n",
       "      <td>196500.00000</td>\n",
       "      <td>296500.00000</td>\n",
       "      <td>436500.000000</td>\n",
       "      <td>3.576500e+06</td>\n",
       "    </tr>\n",
       "    <tr>\n",
       "      <th>rate_of_interest</th>\n",
       "      <td>112231.0</td>\n",
       "      <td>4.045476</td>\n",
       "      <td>0.561391</td>\n",
       "      <td>0.000000</td>\n",
       "      <td>3.62500</td>\n",
       "      <td>3.99000</td>\n",
       "      <td>4.375000</td>\n",
       "      <td>8.000000e+00</td>\n",
       "    </tr>\n",
       "    <tr>\n",
       "      <th>Interest_rate_spread</th>\n",
       "      <td>112031.0</td>\n",
       "      <td>0.441656</td>\n",
       "      <td>0.513043</td>\n",
       "      <td>-3.638000</td>\n",
       "      <td>0.07600</td>\n",
       "      <td>0.39040</td>\n",
       "      <td>0.775400</td>\n",
       "      <td>3.357000e+00</td>\n",
       "    </tr>\n",
       "    <tr>\n",
       "      <th>Upfront_charges</th>\n",
       "      <td>109028.0</td>\n",
       "      <td>3224.996127</td>\n",
       "      <td>3251.121510</td>\n",
       "      <td>0.000000</td>\n",
       "      <td>581.49000</td>\n",
       "      <td>2596.45000</td>\n",
       "      <td>4812.500000</td>\n",
       "      <td>6.000000e+04</td>\n",
       "    </tr>\n",
       "    <tr>\n",
       "      <th>term</th>\n",
       "      <td>148629.0</td>\n",
       "      <td>335.136582</td>\n",
       "      <td>58.409084</td>\n",
       "      <td>96.000000</td>\n",
       "      <td>360.00000</td>\n",
       "      <td>360.00000</td>\n",
       "      <td>360.000000</td>\n",
       "      <td>3.600000e+02</td>\n",
       "    </tr>\n",
       "    <tr>\n",
       "      <th>property_value</th>\n",
       "      <td>133572.0</td>\n",
       "      <td>497893.465696</td>\n",
       "      <td>359935.315562</td>\n",
       "      <td>8000.000000</td>\n",
       "      <td>268000.00000</td>\n",
       "      <td>418000.00000</td>\n",
       "      <td>628000.000000</td>\n",
       "      <td>1.650800e+07</td>\n",
       "    </tr>\n",
       "    <tr>\n",
       "      <th>income</th>\n",
       "      <td>139520.0</td>\n",
       "      <td>6957.338876</td>\n",
       "      <td>6496.586382</td>\n",
       "      <td>0.000000</td>\n",
       "      <td>3720.00000</td>\n",
       "      <td>5760.00000</td>\n",
       "      <td>8520.000000</td>\n",
       "      <td>5.785800e+05</td>\n",
       "    </tr>\n",
       "    <tr>\n",
       "      <th>Credit_Score</th>\n",
       "      <td>148670.0</td>\n",
       "      <td>699.789103</td>\n",
       "      <td>115.875857</td>\n",
       "      <td>500.000000</td>\n",
       "      <td>599.00000</td>\n",
       "      <td>699.00000</td>\n",
       "      <td>800.000000</td>\n",
       "      <td>9.000000e+02</td>\n",
       "    </tr>\n",
       "    <tr>\n",
       "      <th>LTV</th>\n",
       "      <td>133572.0</td>\n",
       "      <td>72.746457</td>\n",
       "      <td>39.967603</td>\n",
       "      <td>0.967478</td>\n",
       "      <td>60.47486</td>\n",
       "      <td>75.13587</td>\n",
       "      <td>86.184211</td>\n",
       "      <td>7.831250e+03</td>\n",
       "    </tr>\n",
       "    <tr>\n",
       "      <th>Status</th>\n",
       "      <td>148670.0</td>\n",
       "      <td>0.246445</td>\n",
       "      <td>0.430942</td>\n",
       "      <td>0.000000</td>\n",
       "      <td>0.00000</td>\n",
       "      <td>0.00000</td>\n",
       "      <td>0.000000</td>\n",
       "      <td>1.000000e+00</td>\n",
       "    </tr>\n",
       "    <tr>\n",
       "      <th>dtir1</th>\n",
       "      <td>124549.0</td>\n",
       "      <td>37.732932</td>\n",
       "      <td>10.545435</td>\n",
       "      <td>5.000000</td>\n",
       "      <td>31.00000</td>\n",
       "      <td>39.00000</td>\n",
       "      <td>45.000000</td>\n",
       "      <td>6.100000e+01</td>\n",
       "    </tr>\n",
       "  </tbody>\n",
       "</table>\n",
       "</div>"
      ],
      "text/plain": [
       "                         count           mean            std           min  \\\n",
       "ID                    148670.0   99224.500000   42917.476598  24890.000000   \n",
       "year                  148670.0    2019.000000       0.000000   2019.000000   \n",
       "loan_amount           148670.0  331117.743997  183909.310127  16500.000000   \n",
       "rate_of_interest      112231.0       4.045476       0.561391      0.000000   \n",
       "Interest_rate_spread  112031.0       0.441656       0.513043     -3.638000   \n",
       "Upfront_charges       109028.0    3224.996127    3251.121510      0.000000   \n",
       "term                  148629.0     335.136582      58.409084     96.000000   \n",
       "property_value        133572.0  497893.465696  359935.315562   8000.000000   \n",
       "income                139520.0    6957.338876    6496.586382      0.000000   \n",
       "Credit_Score          148670.0     699.789103     115.875857    500.000000   \n",
       "LTV                   133572.0      72.746457      39.967603      0.967478   \n",
       "Status                148670.0       0.246445       0.430942      0.000000   \n",
       "dtir1                 124549.0      37.732932      10.545435      5.000000   \n",
       "\n",
       "                               25%           50%            75%           max  \n",
       "ID                     62057.25000   99224.50000  136391.750000  1.735590e+05  \n",
       "year                    2019.00000    2019.00000    2019.000000  2.019000e+03  \n",
       "loan_amount           196500.00000  296500.00000  436500.000000  3.576500e+06  \n",
       "rate_of_interest           3.62500       3.99000       4.375000  8.000000e+00  \n",
       "Interest_rate_spread       0.07600       0.39040       0.775400  3.357000e+00  \n",
       "Upfront_charges          581.49000    2596.45000    4812.500000  6.000000e+04  \n",
       "term                     360.00000     360.00000     360.000000  3.600000e+02  \n",
       "property_value        268000.00000  418000.00000  628000.000000  1.650800e+07  \n",
       "income                  3720.00000    5760.00000    8520.000000  5.785800e+05  \n",
       "Credit_Score             599.00000     699.00000     800.000000  9.000000e+02  \n",
       "LTV                       60.47486      75.13587      86.184211  7.831250e+03  \n",
       "Status                     0.00000       0.00000       0.000000  1.000000e+00  \n",
       "dtir1                     31.00000      39.00000      45.000000  6.100000e+01  "
      ]
     },
     "execution_count": 7,
     "metadata": {},
     "output_type": "execute_result"
    }
   ],
   "source": [
    "df.describe().T  ## descriptive analysis of numerical values"
   ]
  },
  {
   "cell_type": "code",
   "execution_count": 8,
   "metadata": {},
   "outputs": [
    {
     "data": {
      "text/plain": [
       "2019.0"
      ]
     },
     "execution_count": 8,
     "metadata": {},
     "output_type": "execute_result"
    }
   ],
   "source": [
    "df['year'].median() "
   ]
  },
  {
   "cell_type": "code",
   "execution_count": 9,
   "metadata": {},
   "outputs": [
    {
     "data": {
      "text/plain": [
       "296500.0"
      ]
     },
     "execution_count": 9,
     "metadata": {},
     "output_type": "execute_result"
    }
   ],
   "source": [
    "df['loan_amount'].median() "
   ]
  },
  {
   "cell_type": "code",
   "execution_count": 10,
   "metadata": {},
   "outputs": [
    {
     "data": {
      "text/plain": [
       "3.99"
      ]
     },
     "execution_count": 10,
     "metadata": {},
     "output_type": "execute_result"
    }
   ],
   "source": [
    "df['rate_of_interest'].median()"
   ]
  },
  {
   "cell_type": "code",
   "execution_count": 11,
   "metadata": {},
   "outputs": [
    {
     "data": {
      "text/plain": [
       "0.3904"
      ]
     },
     "execution_count": 11,
     "metadata": {},
     "output_type": "execute_result"
    }
   ],
   "source": [
    "df['Interest_rate_spread'].median()"
   ]
  },
  {
   "cell_type": "code",
   "execution_count": 12,
   "metadata": {},
   "outputs": [
    {
     "data": {
      "text/plain": [
       "2596.45"
      ]
     },
     "execution_count": 12,
     "metadata": {},
     "output_type": "execute_result"
    }
   ],
   "source": [
    "df['Upfront_charges'].median()"
   ]
  },
  {
   "cell_type": "code",
   "execution_count": 13,
   "metadata": {},
   "outputs": [
    {
     "data": {
      "text/plain": [
       "360.0"
      ]
     },
     "execution_count": 13,
     "metadata": {},
     "output_type": "execute_result"
    }
   ],
   "source": [
    "df['term'].median()"
   ]
  },
  {
   "cell_type": "code",
   "execution_count": 14,
   "metadata": {},
   "outputs": [
    {
     "data": {
      "text/plain": [
       "418000.0"
      ]
     },
     "execution_count": 14,
     "metadata": {},
     "output_type": "execute_result"
    }
   ],
   "source": [
    "df['property_value'].median()"
   ]
  },
  {
   "cell_type": "code",
   "execution_count": 15,
   "metadata": {},
   "outputs": [
    {
     "data": {
      "text/plain": [
       "5760.0"
      ]
     },
     "execution_count": 15,
     "metadata": {},
     "output_type": "execute_result"
    }
   ],
   "source": [
    "df['income'].median()"
   ]
  },
  {
   "cell_type": "code",
   "execution_count": 16,
   "metadata": {},
   "outputs": [
    {
     "data": {
      "text/plain": [
       "699.0"
      ]
     },
     "execution_count": 16,
     "metadata": {},
     "output_type": "execute_result"
    }
   ],
   "source": [
    "df['Credit_Score'].median()"
   ]
  },
  {
   "cell_type": "code",
   "execution_count": 17,
   "metadata": {},
   "outputs": [
    {
     "data": {
      "text/plain": [
       "75.13586957"
      ]
     },
     "execution_count": 17,
     "metadata": {},
     "output_type": "execute_result"
    }
   ],
   "source": [
    "df['LTV'].median()"
   ]
  },
  {
   "cell_type": "code",
   "execution_count": 18,
   "metadata": {},
   "outputs": [
    {
     "data": {
      "text/plain": [
       "0.0"
      ]
     },
     "execution_count": 18,
     "metadata": {},
     "output_type": "execute_result"
    }
   ],
   "source": [
    "df['Status'].median()"
   ]
  },
  {
   "cell_type": "code",
   "execution_count": 19,
   "metadata": {},
   "outputs": [
    {
     "data": {
      "text/plain": [
       "39.0"
      ]
     },
     "execution_count": 19,
     "metadata": {},
     "output_type": "execute_result"
    }
   ],
   "source": [
    "df['dtir1'].median()"
   ]
  },
  {
   "cell_type": "code",
   "execution_count": 20,
   "metadata": {},
   "outputs": [
    {
     "data": {
      "text/plain": [
       "0    2019\n",
       "dtype: int64"
      ]
     },
     "execution_count": 20,
     "metadata": {},
     "output_type": "execute_result"
    }
   ],
   "source": [
    "df['year'].mode()  "
   ]
  },
  {
   "cell_type": "code",
   "execution_count": 21,
   "metadata": {},
   "outputs": [
    {
     "data": {
      "text/plain": [
       "0    206500\n",
       "dtype: int64"
      ]
     },
     "execution_count": 21,
     "metadata": {},
     "output_type": "execute_result"
    }
   ],
   "source": [
    "df['loan_amount'].mode()"
   ]
  },
  {
   "cell_type": "code",
   "execution_count": 22,
   "metadata": {},
   "outputs": [
    {
     "data": {
      "text/plain": [
       "0    3.99\n",
       "dtype: float64"
      ]
     },
     "execution_count": 22,
     "metadata": {},
     "output_type": "execute_result"
    }
   ],
   "source": [
    "df['rate_of_interest'].mode()"
   ]
  },
  {
   "cell_type": "code",
   "execution_count": 23,
   "metadata": {},
   "outputs": [
    {
     "data": {
      "text/plain": [
       "0   -0.028\n",
       "dtype: float64"
      ]
     },
     "execution_count": 23,
     "metadata": {},
     "output_type": "execute_result"
    }
   ],
   "source": [
    "df['Interest_rate_spread'].mode()"
   ]
  },
  {
   "cell_type": "code",
   "execution_count": 24,
   "metadata": {},
   "outputs": [
    {
     "data": {
      "text/plain": [
       "0    0.0\n",
       "dtype: float64"
      ]
     },
     "execution_count": 24,
     "metadata": {},
     "output_type": "execute_result"
    }
   ],
   "source": [
    "df['Upfront_charges'].mode()"
   ]
  },
  {
   "cell_type": "code",
   "execution_count": 25,
   "metadata": {},
   "outputs": [
    {
     "data": {
      "text/plain": [
       "0    360.0\n",
       "dtype: float64"
      ]
     },
     "execution_count": 25,
     "metadata": {},
     "output_type": "execute_result"
    }
   ],
   "source": [
    "df['term'].mode()"
   ]
  },
  {
   "cell_type": "code",
   "execution_count": 26,
   "metadata": {},
   "outputs": [
    {
     "data": {
      "text/plain": [
       "0    308000.0\n",
       "dtype: float64"
      ]
     },
     "execution_count": 26,
     "metadata": {},
     "output_type": "execute_result"
    }
   ],
   "source": [
    "df['property_value'].mode()"
   ]
  },
  {
   "cell_type": "code",
   "execution_count": 27,
   "metadata": {},
   "outputs": [
    {
     "data": {
      "text/plain": [
       "0    0.0\n",
       "dtype: float64"
      ]
     },
     "execution_count": 27,
     "metadata": {},
     "output_type": "execute_result"
    }
   ],
   "source": [
    "df['income'].mode()"
   ]
  },
  {
   "cell_type": "code",
   "execution_count": 28,
   "metadata": {},
   "outputs": [
    {
     "data": {
      "text/plain": [
       "0    763\n",
       "dtype: int64"
      ]
     },
     "execution_count": 28,
     "metadata": {},
     "output_type": "execute_result"
    }
   ],
   "source": [
    "df['Credit_Score'].mode()"
   ]
  },
  {
   "cell_type": "code",
   "execution_count": 29,
   "metadata": {},
   "outputs": [
    {
     "data": {
      "text/plain": [
       "0    81.25\n",
       "dtype: float64"
      ]
     },
     "execution_count": 29,
     "metadata": {},
     "output_type": "execute_result"
    }
   ],
   "source": [
    "df['LTV'].mode()"
   ]
  },
  {
   "cell_type": "code",
   "execution_count": 30,
   "metadata": {},
   "outputs": [
    {
     "data": {
      "text/plain": [
       "0    0\n",
       "dtype: int64"
      ]
     },
     "execution_count": 30,
     "metadata": {},
     "output_type": "execute_result"
    }
   ],
   "source": [
    "df['Status'].mode()"
   ]
  },
  {
   "cell_type": "code",
   "execution_count": 31,
   "metadata": {},
   "outputs": [
    {
     "data": {
      "text/plain": [
       "0    37.0\n",
       "dtype: float64"
      ]
     },
     "execution_count": 31,
     "metadata": {},
     "output_type": "execute_result"
    }
   ],
   "source": [
    "df['dtir1'].mode()"
   ]
  },
  {
   "cell_type": "code",
   "execution_count": 32,
   "metadata": {},
   "outputs": [
    {
     "data": {
      "text/plain": [
       "0.0"
      ]
     },
     "execution_count": 32,
     "metadata": {},
     "output_type": "execute_result"
    }
   ],
   "source": [
    "df['year'].var() "
   ]
  },
  {
   "cell_type": "code",
   "execution_count": 33,
   "metadata": {},
   "outputs": [
    {
     "data": {
      "text/plain": [
       "33822634351.417194"
      ]
     },
     "execution_count": 33,
     "metadata": {},
     "output_type": "execute_result"
    }
   ],
   "source": [
    "df['loan_amount'].var()"
   ]
  },
  {
   "cell_type": "code",
   "execution_count": 34,
   "metadata": {},
   "outputs": [
    {
     "data": {
      "text/plain": [
       "0.31516007210238717"
      ]
     },
     "execution_count": 34,
     "metadata": {},
     "output_type": "execute_result"
    }
   ],
   "source": [
    "df['rate_of_interest'].var()"
   ]
  },
  {
   "cell_type": "code",
   "execution_count": 35,
   "metadata": {},
   "outputs": [
    {
     "data": {
      "text/plain": [
       "0.26321284874147616"
      ]
     },
     "execution_count": 35,
     "metadata": {},
     "output_type": "execute_result"
    }
   ],
   "source": [
    "df['Interest_rate_spread'].var()"
   ]
  },
  {
   "cell_type": "code",
   "execution_count": 36,
   "metadata": {},
   "outputs": [
    {
     "data": {
      "text/plain": [
       "10569791.070898274"
      ]
     },
     "execution_count": 36,
     "metadata": {},
     "output_type": "execute_result"
    }
   ],
   "source": [
    "df['Upfront_charges'].var()"
   ]
  },
  {
   "cell_type": "code",
   "execution_count": 37,
   "metadata": {},
   "outputs": [
    {
     "data": {
      "text/plain": [
       "3411.621036362908"
      ]
     },
     "execution_count": 37,
     "metadata": {},
     "output_type": "execute_result"
    }
   ],
   "source": [
    "df['term'].var()"
   ]
  },
  {
   "cell_type": "code",
   "execution_count": 38,
   "metadata": {},
   "outputs": [
    {
     "data": {
      "text/plain": [
       "129553431388.68176"
      ]
     },
     "execution_count": 38,
     "metadata": {},
     "output_type": "execute_result"
    }
   ],
   "source": [
    "df['property_value'].var()"
   ]
  },
  {
   "cell_type": "code",
   "execution_count": 39,
   "metadata": {},
   "outputs": [
    {
     "data": {
      "text/plain": [
       "42205634.621648625"
      ]
     },
     "execution_count": 39,
     "metadata": {},
     "output_type": "execute_result"
    }
   ],
   "source": [
    "df['income'].var()"
   ]
  },
  {
   "cell_type": "code",
   "execution_count": 40,
   "metadata": {},
   "outputs": [
    {
     "data": {
      "text/plain": [
       "13427.214143820087"
      ]
     },
     "execution_count": 40,
     "metadata": {},
     "output_type": "execute_result"
    }
   ],
   "source": [
    "df['Credit_Score'].var()"
   ]
  },
  {
   "cell_type": "code",
   "execution_count": 41,
   "metadata": {},
   "outputs": [
    {
     "data": {
      "text/plain": [
       "1597.4092882093814"
      ]
     },
     "execution_count": 41,
     "metadata": {},
     "output_type": "execute_result"
    }
   ],
   "source": [
    "df['LTV'].var()"
   ]
  },
  {
   "cell_type": "code",
   "execution_count": 42,
   "metadata": {},
   "outputs": [
    {
     "data": {
      "text/plain": [
       "0.18571118565479316"
      ]
     },
     "execution_count": 42,
     "metadata": {},
     "output_type": "execute_result"
    }
   ],
   "source": [
    "df['Status'].var()"
   ]
  },
  {
   "cell_type": "code",
   "execution_count": 43,
   "metadata": {},
   "outputs": [
    {
     "data": {
      "text/plain": [
       "111.20619786021413"
      ]
     },
     "execution_count": 43,
     "metadata": {},
     "output_type": "execute_result"
    }
   ],
   "source": [
    "df['dtir1'].var()"
   ]
  },
  {
   "cell_type": "markdown",
   "metadata": {},
   "source": [
    "## DATA VISUALIZATION"
   ]
  },
  {
   "cell_type": "code",
   "execution_count": 44,
   "metadata": {},
   "outputs": [
    {
     "data": {
      "text/plain": [
       "<AxesSubplot:xlabel='Gender', ylabel='income'>"
      ]
     },
     "execution_count": 44,
     "metadata": {},
     "output_type": "execute_result"
    },
    {
     "data": {
      "image/png": "[encoded data removed]",
      "text/plain": [
       "<Figure size 432x288 with 1 Axes>"
      ]
     },
     "metadata": {
      "needs_background": "light"
     },
     "output_type": "display_data"
    }
   ],
   "source": [
    "sns.barplot(x=\"Gender\", y=\"income\", data=df) "
   ]
  },
  {
   "cell_type": "code",
   "execution_count": 45,
   "metadata": {},
   "outputs": [
    {
     "data": {
      "text/plain": [
       "<AxesSubplot:xlabel='Region', ylabel='income'>"
      ]
     },
     "execution_count": 45,
     "metadata": {},
     "output_type": "execute_result"
    },
    {
     "data": {
      "image/png": "[encoded data removed]",
      "text/plain": [
       "<Figure size 432x288 with 1 Axes>"
      ]
     },
     "metadata": {
      "needs_background": "light"
     },
     "output_type": "display_data"
    }
   ],
   "source": [
    "sns.barplot(x=\"Region\", y=\"income\", data=df)"
   ]
  },
  {
   "cell_type": "code",
   "execution_count": 46,
   "metadata": {},
   "outputs": [
    {
     "data": {
      "text/plain": [
       "<AxesSubplot:xlabel='Region', ylabel='property_value'>"
      ]
     },
     "execution_count": 46,
     "metadata": {},
     "output_type": "execute_result"
    },
    {
     "data": {
      "image/png": "[encoded data removed]",
      "text/plain": [
       "<Figure size 432x288 with 1 Axes>"
      ]
     },
     "metadata": {
      "needs_background": "light"
     },
     "output_type": "display_data"
    }
   ],
   "source": [
    "sns.barplot(x=\"Region\", y=\"property_value\", data=df)"
   ]
  },
  {
   "cell_type": "code",
   "execution_count": 47,
   "metadata": {},
   "outputs": [
    {
     "data": {
      "text/plain": [
       "(array([9.5926e+04, 5.0085e+04, 2.0590e+03, 4.2300e+02, 1.2100e+02,\n",
       "        3.2000e+01, 1.2000e+01, 4.0000e+00, 6.0000e+00, 2.0000e+00]),\n",
       " array([  16500.,  372500.,  728500., 1084500., 1440500., 1796500.,\n",
       "        2152500., 2508500., 2864500., 3220500., 3576500.]),\n",
       " <BarContainer object of 10 artists>)"
      ]
     },
     "execution_count": 47,
     "metadata": {},
     "output_type": "execute_result"
    },
    {
     "data": {
      "image/png": "[encoded data removed]",
      "text/plain": [
       "<Figure size 432x288 with 1 Axes>"
      ]
     },
     "metadata": {
      "needs_background": "light"
     },
     "output_type": "display_data"
    }
   ],
   "source": [
    "plt.hist(df.loan_amount) "
   ]
  },
  {
   "cell_type": "code",
   "execution_count": 48,
   "metadata": {},
   "outputs": [
    {
     "data": {
      "image/png": "[encoded data removed]",
      "text/plain": [
       "<Figure size 432x288 with 1 Axes>"
      ]
     },
     "metadata": {
      "needs_background": "light"
     },
     "output_type": "display_data"
    }
   ],
   "source": [
    "sns.boxplot(x=\"credit_type\", y=\"loan_amount\", data=df); "
   ]
  },
  {
   "cell_type": "code",
   "execution_count": 49,
   "metadata": {},
   "outputs": [
    {
     "data": {
      "image/png": "[encoded data removed]",
      "text/plain": [
       "<Figure size 432x288 with 1 Axes>"
      ]
     },
     "metadata": {
      "needs_background": "light"
     },
     "output_type": "display_data"
    }
   ],
   "source": [
    "sns.boxplot(x=\"Region\", y=\"Credit_Score\", data=df); "
   ]
  },
  {
   "cell_type": "code",
   "execution_count": 50,
   "metadata": {},
   "outputs": [
    {
     "data": {
      "text/plain": [
       "<AxesSubplot:xlabel='income', ylabel='property_value'>"
      ]
     },
     "execution_count": 50,
     "metadata": {},
     "output_type": "execute_result"
    },
    {
     "data": {
      "image/png": "[encoded data removed]",
      "text/plain": [
       "<Figure size 432x288 with 1 Axes>"
      ]
     },
     "metadata": {
      "needs_background": "light"
     },
     "output_type": "display_data"
    }
   ],
   "source": [
    "sns.scatterplot(x=\"income\", y=\"property_value\", data=df) ## “Correlation”"
   ]
  },
  {
   "cell_type": "code",
   "execution_count": 51,
   "metadata": {},
   "outputs": [
    {
     "data": {
      "text/plain": [
       "<seaborn.axisgrid.FacetGrid at 0x14257e67370>"
      ]
     },
     "execution_count": 51,
     "metadata": {},
     "output_type": "execute_result"
    },
    {
     "data": {
      "image/png": "[encoded data removed]",
      "text/plain": [
       "<Figure size 360x360 with 1 Axes>"
      ]
     },
     "metadata": {
      "needs_background": "light"
     },
     "output_type": "display_data"
    }
   ],
   "source": [
    "sns.lmplot(x=\"income\", y=\"property_value\", data=df) "
   ]
  },
  {
   "cell_type": "markdown",
   "metadata": {},
   "source": [
    "## DATA PREPROCESSING"
   ]
  },
  {
   "cell_type": "code",
   "execution_count": 52,
   "metadata": {},
   "outputs": [
    {
     "data": {
      "text/plain": [
       "(148670, 34)"
      ]
     },
     "execution_count": 52,
     "metadata": {},
     "output_type": "execute_result"
    }
   ],
   "source": [
    "df.shape "
   ]
  },
  {
   "cell_type": "markdown",
   "metadata": {},
   "source": [
    "## Missing Data Completion"
   ]
  },
  {
   "cell_type": "code",
   "execution_count": 54,
   "metadata": {},
   "outputs": [
    {
     "data": {
      "text/plain": [
       "ID                               0\n",
       "year                             0\n",
       "loan_limit                    3344\n",
       "Gender                           0\n",
       "approv_in_adv                  908\n",
       "loan_type                        0\n",
       "loan_purpose                   134\n",
       "Credit_Worthiness                0\n",
       "open_credit                      0\n",
       "business_or_commercial           0\n",
       "loan_amount                      0\n",
       "rate_of_interest             36439\n",
       "Interest_rate_spread         36639\n",
       "Upfront_charges              39642\n",
       "term                            41\n",
       "Neg_ammortization              121\n",
       "interest_only                    0\n",
       "lump_sum_payment                 0\n",
       "property_value               15098\n",
       "construction_type                0\n",
       "occupancy_type                   0\n",
       "Secured_by                       0\n",
       "total_units                      0\n",
       "income                        9150\n",
       "credit_type                      0\n",
       "Credit_Score                     0\n",
       "co-applicant_credit_type         0\n",
       "age                            200\n",
       "submission_of_application      200\n",
       "LTV                          15098\n",
       "Region                           0\n",
       "Security_Type                    0\n",
       "Status                           0\n",
       "dtir1                        24121\n",
       "dtype: int64"
      ]
     },
     "execution_count": 54,
     "metadata": {},
     "output_type": "execute_result"
    }
   ],
   "source": [
    "df.isnull().sum()  ## number of missing data"
   ]
  },
  {
   "cell_type": "code",
   "execution_count": 55,
   "metadata": {},
   "outputs": [
    {
     "data": {
      "text/plain": [
       "ID                           148670\n",
       "year                         148670\n",
       "loan_limit                   145326\n",
       "Gender                       148670\n",
       "approv_in_adv                147762\n",
       "loan_type                    148670\n",
       "loan_purpose                 148536\n",
       "Credit_Worthiness            148670\n",
       "open_credit                  148670\n",
       "business_or_commercial       148670\n",
       "loan_amount                  148670\n",
       "rate_of_interest             112231\n",
       "Interest_rate_spread         112031\n",
       "Upfront_charges              109028\n",
       "term                         148629\n",
       "Neg_ammortization            148549\n",
       "interest_only                148670\n",
       "lump_sum_payment             148670\n",
       "property_value               133572\n",
       "construction_type            148670\n",
       "occupancy_type               148670\n",
       "Secured_by                   148670\n",
       "total_units                  148670\n",
       "income                       139520\n",
       "credit_type                  148670\n",
       "Credit_Score                 148670\n",
       "co-applicant_credit_type     148670\n",
       "age                          148470\n",
       "submission_of_application    148470\n",
       "LTV                          133572\n",
       "Region                       148670\n",
       "Security_Type                148670\n",
       "Status                       148670\n",
       "dtir1                        124549\n",
       "dtype: int64"
      ]
     },
     "execution_count": 55,
     "metadata": {},
     "output_type": "execute_result"
    }
   ],
   "source": [
    "df.notnull().sum() "
   ]
  },
  {
   "cell_type": "code",
   "execution_count": 56,
   "metadata": {},
   "outputs": [
    {
     "data": {
      "text/plain": [
       "ID                            0.000000\n",
       "year                          0.000000\n",
       "loan_limit                    2.249277\n",
       "Gender                        0.000000\n",
       "approv_in_adv                 0.610749\n",
       "loan_type                     0.000000\n",
       "loan_purpose                  0.090133\n",
       "Credit_Worthiness             0.000000\n",
       "open_credit                   0.000000\n",
       "business_or_commercial        0.000000\n",
       "loan_amount                   0.000000\n",
       "rate_of_interest             24.509989\n",
       "Interest_rate_spread         24.644515\n",
       "Upfront_charges              26.664425\n",
       "term                          0.027578\n",
       "Neg_ammortization             0.081388\n",
       "interest_only                 0.000000\n",
       "lump_sum_payment              0.000000\n",
       "property_value               10.155378\n",
       "construction_type             0.000000\n",
       "occupancy_type                0.000000\n",
       "Secured_by                    0.000000\n",
       "total_units                   0.000000\n",
       "income                        6.154571\n",
       "credit_type                   0.000000\n",
       "Credit_Score                  0.000000\n",
       "co-applicant_credit_type      0.000000\n",
       "age                           0.134526\n",
       "submission_of_application     0.134526\n",
       "LTV                          10.155378\n",
       "Region                        0.000000\n",
       "Security_Type                 0.000000\n",
       "Status                        0.000000\n",
       "dtir1                        16.224524\n",
       "dtype: float64"
      ]
     },
     "execution_count": 56,
     "metadata": {},
     "output_type": "execute_result"
    }
   ],
   "source": [
    "df.isnull().sum() / df.shape[0] * 100  "
   ]
  },
  {
   "cell_type": "code",
   "execution_count": 57,
   "metadata": {},
   "outputs": [
    {
     "data": {
      "text/html": [
       "<div>\n",
       "<style scoped>\n",
       "    .dataframe tbody tr th:only-of-type {\n",
       "        vertical-align: middle;\n",
       "    }\n",
       "\n",
       "    .dataframe tbody tr th {\n",
       "        vertical-align: top;\n",
       "    }\n",
       "\n",
       "    .dataframe thead th {\n",
       "        text-align: right;\n",
       "    }\n",
       "</style>\n",
       "<table border=\"1\" class=\"dataframe\">\n",
       "  <thead>\n",
       "    <tr style=\"text-align: right;\">\n",
       "      <th></th>\n",
       "      <th>ID</th>\n",
       "      <th>year</th>\n",
       "      <th>loan_limit</th>\n",
       "      <th>Gender</th>\n",
       "      <th>approv_in_adv</th>\n",
       "      <th>loan_type</th>\n",
       "      <th>loan_purpose</th>\n",
       "      <th>Credit_Worthiness</th>\n",
       "      <th>open_credit</th>\n",
       "      <th>business_or_commercial</th>\n",
       "      <th>...</th>\n",
       "      <th>credit_type</th>\n",
       "      <th>Credit_Score</th>\n",
       "      <th>co-applicant_credit_type</th>\n",
       "      <th>age</th>\n",
       "      <th>submission_of_application</th>\n",
       "      <th>LTV</th>\n",
       "      <th>Region</th>\n",
       "      <th>Security_Type</th>\n",
       "      <th>Status</th>\n",
       "      <th>dtir1</th>\n",
       "    </tr>\n",
       "  </thead>\n",
       "  <tbody>\n",
       "    <tr>\n",
       "      <th>2</th>\n",
       "      <td>24892</td>\n",
       "      <td>2019</td>\n",
       "      <td>cf</td>\n",
       "      <td>Male</td>\n",
       "      <td>pre</td>\n",
       "      <td>type1</td>\n",
       "      <td>p1</td>\n",
       "      <td>l1</td>\n",
       "      <td>nopc</td>\n",
       "      <td>nob/c</td>\n",
       "      <td>...</td>\n",
       "      <td>EXP</td>\n",
       "      <td>834</td>\n",
       "      <td>CIB</td>\n",
       "      <td>35-44</td>\n",
       "      <td>to_inst</td>\n",
       "      <td>80.019685</td>\n",
       "      <td>south</td>\n",
       "      <td>direct</td>\n",
       "      <td>0</td>\n",
       "      <td>46.0</td>\n",
       "    </tr>\n",
       "    <tr>\n",
       "      <th>4</th>\n",
       "      <td>24894</td>\n",
       "      <td>2019</td>\n",
       "      <td>cf</td>\n",
       "      <td>Joint</td>\n",
       "      <td>pre</td>\n",
       "      <td>type1</td>\n",
       "      <td>p1</td>\n",
       "      <td>l1</td>\n",
       "      <td>nopc</td>\n",
       "      <td>nob/c</td>\n",
       "      <td>...</td>\n",
       "      <td>CRIF</td>\n",
       "      <td>602</td>\n",
       "      <td>EXP</td>\n",
       "      <td>25-34</td>\n",
       "      <td>not_inst</td>\n",
       "      <td>91.886544</td>\n",
       "      <td>North</td>\n",
       "      <td>direct</td>\n",
       "      <td>0</td>\n",
       "      <td>39.0</td>\n",
       "    </tr>\n",
       "    <tr>\n",
       "      <th>5</th>\n",
       "      <td>24895</td>\n",
       "      <td>2019</td>\n",
       "      <td>cf</td>\n",
       "      <td>Joint</td>\n",
       "      <td>pre</td>\n",
       "      <td>type1</td>\n",
       "      <td>p1</td>\n",
       "      <td>l1</td>\n",
       "      <td>nopc</td>\n",
       "      <td>nob/c</td>\n",
       "      <td>...</td>\n",
       "      <td>EXP</td>\n",
       "      <td>864</td>\n",
       "      <td>EXP</td>\n",
       "      <td>35-44</td>\n",
       "      <td>not_inst</td>\n",
       "      <td>70.089286</td>\n",
       "      <td>North</td>\n",
       "      <td>direct</td>\n",
       "      <td>0</td>\n",
       "      <td>40.0</td>\n",
       "    </tr>\n",
       "    <tr>\n",
       "      <th>6</th>\n",
       "      <td>24896</td>\n",
       "      <td>2019</td>\n",
       "      <td>cf</td>\n",
       "      <td>Joint</td>\n",
       "      <td>pre</td>\n",
       "      <td>type1</td>\n",
       "      <td>p3</td>\n",
       "      <td>l1</td>\n",
       "      <td>nopc</td>\n",
       "      <td>nob/c</td>\n",
       "      <td>...</td>\n",
       "      <td>EXP</td>\n",
       "      <td>860</td>\n",
       "      <td>EXP</td>\n",
       "      <td>55-64</td>\n",
       "      <td>to_inst</td>\n",
       "      <td>79.109589</td>\n",
       "      <td>North</td>\n",
       "      <td>direct</td>\n",
       "      <td>0</td>\n",
       "      <td>44.0</td>\n",
       "    </tr>\n",
       "    <tr>\n",
       "      <th>8</th>\n",
       "      <td>24898</td>\n",
       "      <td>2019</td>\n",
       "      <td>cf</td>\n",
       "      <td>Joint</td>\n",
       "      <td>nopre</td>\n",
       "      <td>type1</td>\n",
       "      <td>p3</td>\n",
       "      <td>l1</td>\n",
       "      <td>nopc</td>\n",
       "      <td>nob/c</td>\n",
       "      <td>...</td>\n",
       "      <td>CIB</td>\n",
       "      <td>580</td>\n",
       "      <td>EXP</td>\n",
       "      <td>55-64</td>\n",
       "      <td>to_inst</td>\n",
       "      <td>78.765690</td>\n",
       "      <td>central</td>\n",
       "      <td>direct</td>\n",
       "      <td>0</td>\n",
       "      <td>44.0</td>\n",
       "    </tr>\n",
       "    <tr>\n",
       "      <th>...</th>\n",
       "      <td>...</td>\n",
       "      <td>...</td>\n",
       "      <td>...</td>\n",
       "      <td>...</td>\n",
       "      <td>...</td>\n",
       "      <td>...</td>\n",
       "      <td>...</td>\n",
       "      <td>...</td>\n",
       "      <td>...</td>\n",
       "      <td>...</td>\n",
       "      <td>...</td>\n",
       "      <td>...</td>\n",
       "      <td>...</td>\n",
       "      <td>...</td>\n",
       "      <td>...</td>\n",
       "      <td>...</td>\n",
       "      <td>...</td>\n",
       "      <td>...</td>\n",
       "      <td>...</td>\n",
       "      <td>...</td>\n",
       "      <td>...</td>\n",
       "    </tr>\n",
       "    <tr>\n",
       "      <th>148665</th>\n",
       "      <td>173555</td>\n",
       "      <td>2019</td>\n",
       "      <td>cf</td>\n",
       "      <td>Sex Not Available</td>\n",
       "      <td>nopre</td>\n",
       "      <td>type1</td>\n",
       "      <td>p3</td>\n",
       "      <td>l1</td>\n",
       "      <td>nopc</td>\n",
       "      <td>nob/c</td>\n",
       "      <td>...</td>\n",
       "      <td>CIB</td>\n",
       "      <td>659</td>\n",
       "      <td>EXP</td>\n",
       "      <td>55-64</td>\n",
       "      <td>to_inst</td>\n",
       "      <td>71.792763</td>\n",
       "      <td>south</td>\n",
       "      <td>direct</td>\n",
       "      <td>0</td>\n",
       "      <td>48.0</td>\n",
       "    </tr>\n",
       "    <tr>\n",
       "      <th>148666</th>\n",
       "      <td>173556</td>\n",
       "      <td>2019</td>\n",
       "      <td>cf</td>\n",
       "      <td>Male</td>\n",
       "      <td>nopre</td>\n",
       "      <td>type1</td>\n",
       "      <td>p1</td>\n",
       "      <td>l1</td>\n",
       "      <td>nopc</td>\n",
       "      <td>nob/c</td>\n",
       "      <td>...</td>\n",
       "      <td>CIB</td>\n",
       "      <td>569</td>\n",
       "      <td>CIB</td>\n",
       "      <td>25-34</td>\n",
       "      <td>not_inst</td>\n",
       "      <td>74.428934</td>\n",
       "      <td>south</td>\n",
       "      <td>direct</td>\n",
       "      <td>0</td>\n",
       "      <td>15.0</td>\n",
       "    </tr>\n",
       "    <tr>\n",
       "      <th>148667</th>\n",
       "      <td>173557</td>\n",
       "      <td>2019</td>\n",
       "      <td>cf</td>\n",
       "      <td>Male</td>\n",
       "      <td>nopre</td>\n",
       "      <td>type1</td>\n",
       "      <td>p4</td>\n",
       "      <td>l1</td>\n",
       "      <td>nopc</td>\n",
       "      <td>nob/c</td>\n",
       "      <td>...</td>\n",
       "      <td>CIB</td>\n",
       "      <td>702</td>\n",
       "      <td>EXP</td>\n",
       "      <td>45-54</td>\n",
       "      <td>not_inst</td>\n",
       "      <td>61.332418</td>\n",
       "      <td>North</td>\n",
       "      <td>direct</td>\n",
       "      <td>0</td>\n",
       "      <td>49.0</td>\n",
       "    </tr>\n",
       "    <tr>\n",
       "      <th>148668</th>\n",
       "      <td>173558</td>\n",
       "      <td>2019</td>\n",
       "      <td>cf</td>\n",
       "      <td>Female</td>\n",
       "      <td>nopre</td>\n",
       "      <td>type1</td>\n",
       "      <td>p4</td>\n",
       "      <td>l1</td>\n",
       "      <td>nopc</td>\n",
       "      <td>nob/c</td>\n",
       "      <td>...</td>\n",
       "      <td>EXP</td>\n",
       "      <td>737</td>\n",
       "      <td>EXP</td>\n",
       "      <td>55-64</td>\n",
       "      <td>to_inst</td>\n",
       "      <td>70.683453</td>\n",
       "      <td>North</td>\n",
       "      <td>direct</td>\n",
       "      <td>0</td>\n",
       "      <td>29.0</td>\n",
       "    </tr>\n",
       "    <tr>\n",
       "      <th>148669</th>\n",
       "      <td>173559</td>\n",
       "      <td>2019</td>\n",
       "      <td>cf</td>\n",
       "      <td>Female</td>\n",
       "      <td>nopre</td>\n",
       "      <td>type1</td>\n",
       "      <td>p3</td>\n",
       "      <td>l1</td>\n",
       "      <td>nopc</td>\n",
       "      <td>nob/c</td>\n",
       "      <td>...</td>\n",
       "      <td>CIB</td>\n",
       "      <td>830</td>\n",
       "      <td>CIB</td>\n",
       "      <td>45-54</td>\n",
       "      <td>not_inst</td>\n",
       "      <td>72.849462</td>\n",
       "      <td>North</td>\n",
       "      <td>direct</td>\n",
       "      <td>0</td>\n",
       "      <td>44.0</td>\n",
       "    </tr>\n",
       "  </tbody>\n",
       "</table>\n",
       "<p>98187 rows × 34 columns</p>\n",
       "</div>"
      ],
      "text/plain": [
       "            ID  year loan_limit             Gender approv_in_adv loan_type  \\\n",
       "2        24892  2019         cf               Male           pre     type1   \n",
       "4        24894  2019         cf              Joint           pre     type1   \n",
       "5        24895  2019         cf              Joint           pre     type1   \n",
       "6        24896  2019         cf              Joint           pre     type1   \n",
       "8        24898  2019         cf              Joint         nopre     type1   \n",
       "...        ...   ...        ...                ...           ...       ...   \n",
       "148665  173555  2019         cf  Sex Not Available         nopre     type1   \n",
       "148666  173556  2019         cf               Male         nopre     type1   \n",
       "148667  173557  2019         cf               Male         nopre     type1   \n",
       "148668  173558  2019         cf             Female         nopre     type1   \n",
       "148669  173559  2019         cf             Female         nopre     type1   \n",
       "\n",
       "       loan_purpose Credit_Worthiness open_credit business_or_commercial  ...  \\\n",
       "2                p1                l1        nopc                  nob/c  ...   \n",
       "4                p1                l1        nopc                  nob/c  ...   \n",
       "5                p1                l1        nopc                  nob/c  ...   \n",
       "6                p3                l1        nopc                  nob/c  ...   \n",
       "8                p3                l1        nopc                  nob/c  ...   \n",
       "...             ...               ...         ...                    ...  ...   \n",
       "148665           p3                l1        nopc                  nob/c  ...   \n",
       "148666           p1                l1        nopc                  nob/c  ...   \n",
       "148667           p4                l1        nopc                  nob/c  ...   \n",
       "148668           p4                l1        nopc                  nob/c  ...   \n",
       "148669           p3                l1        nopc                  nob/c  ...   \n",
       "\n",
       "        credit_type  Credit_Score  co-applicant_credit_type    age  \\\n",
       "2               EXP           834                       CIB  35-44   \n",
       "4              CRIF           602                       EXP  25-34   \n",
       "5               EXP           864                       EXP  35-44   \n",
       "6               EXP           860                       EXP  55-64   \n",
       "8               CIB           580                       EXP  55-64   \n",
       "...             ...           ...                       ...    ...   \n",
       "148665          CIB           659                       EXP  55-64   \n",
       "148666          CIB           569                       CIB  25-34   \n",
       "148667          CIB           702                       EXP  45-54   \n",
       "148668          EXP           737                       EXP  55-64   \n",
       "148669          CIB           830                       CIB  45-54   \n",
       "\n",
       "        submission_of_application        LTV   Region Security_Type  Status  \\\n",
       "2                         to_inst  80.019685    south        direct       0   \n",
       "4                        not_inst  91.886544    North        direct       0   \n",
       "5                        not_inst  70.089286    North        direct       0   \n",
       "6                         to_inst  79.109589    North        direct       0   \n",
       "8                         to_inst  78.765690  central        direct       0   \n",
       "...                           ...        ...      ...           ...     ...   \n",
       "148665                    to_inst  71.792763    south        direct       0   \n",
       "148666                   not_inst  74.428934    south        direct       0   \n",
       "148667                   not_inst  61.332418    North        direct       0   \n",
       "148668                    to_inst  70.683453    North        direct       0   \n",
       "148669                   not_inst  72.849462    North        direct       0   \n",
       "\n",
       "       dtir1  \n",
       "2       46.0  \n",
       "4       39.0  \n",
       "5       40.0  \n",
       "6       44.0  \n",
       "8       44.0  \n",
       "...      ...  \n",
       "148665  48.0  \n",
       "148666  15.0  \n",
       "148667  49.0  \n",
       "148668  29.0  \n",
       "148669  44.0  \n",
       "\n",
       "[98187 rows x 34 columns]"
      ]
     },
     "execution_count": 57,
     "metadata": {},
     "output_type": "execute_result"
    }
   ],
   "source": [
    "df1 = df.dropna()  ## Deletes records with missing data on a row basis\n",
    "df1"
   ]
  },
  {
   "cell_type": "code",
   "execution_count": 58,
   "metadata": {},
   "outputs": [
    {
     "data": {
      "text/html": [
       "<div>\n",
       "<style scoped>\n",
       "    .dataframe tbody tr th:only-of-type {\n",
       "        vertical-align: middle;\n",
       "    }\n",
       "\n",
       "    .dataframe tbody tr th {\n",
       "        vertical-align: top;\n",
       "    }\n",
       "\n",
       "    .dataframe thead th {\n",
       "        text-align: right;\n",
       "    }\n",
       "</style>\n",
       "<table border=\"1\" class=\"dataframe\">\n",
       "  <thead>\n",
       "    <tr style=\"text-align: right;\">\n",
       "      <th></th>\n",
       "      <th>ID</th>\n",
       "      <th>year</th>\n",
       "      <th>Gender</th>\n",
       "      <th>loan_type</th>\n",
       "      <th>Credit_Worthiness</th>\n",
       "      <th>open_credit</th>\n",
       "      <th>business_or_commercial</th>\n",
       "      <th>loan_amount</th>\n",
       "      <th>interest_only</th>\n",
       "      <th>lump_sum_payment</th>\n",
       "      <th>construction_type</th>\n",
       "      <th>occupancy_type</th>\n",
       "      <th>Secured_by</th>\n",
       "      <th>total_units</th>\n",
       "      <th>credit_type</th>\n",
       "      <th>Credit_Score</th>\n",
       "      <th>co-applicant_credit_type</th>\n",
       "      <th>Region</th>\n",
       "      <th>Security_Type</th>\n",
       "      <th>Status</th>\n",
       "    </tr>\n",
       "  </thead>\n",
       "  <tbody>\n",
       "    <tr>\n",
       "      <th>0</th>\n",
       "      <td>24890</td>\n",
       "      <td>2019</td>\n",
       "      <td>Sex Not Available</td>\n",
       "      <td>type1</td>\n",
       "      <td>l1</td>\n",
       "      <td>nopc</td>\n",
       "      <td>nob/c</td>\n",
       "      <td>116500</td>\n",
       "      <td>not_int</td>\n",
       "      <td>not_lpsm</td>\n",
       "      <td>sb</td>\n",
       "      <td>pr</td>\n",
       "      <td>home</td>\n",
       "      <td>1U</td>\n",
       "      <td>EXP</td>\n",
       "      <td>758</td>\n",
       "      <td>CIB</td>\n",
       "      <td>south</td>\n",
       "      <td>direct</td>\n",
       "      <td>1</td>\n",
       "    </tr>\n",
       "    <tr>\n",
       "      <th>1</th>\n",
       "      <td>24891</td>\n",
       "      <td>2019</td>\n",
       "      <td>Male</td>\n",
       "      <td>type2</td>\n",
       "      <td>l1</td>\n",
       "      <td>nopc</td>\n",
       "      <td>b/c</td>\n",
       "      <td>206500</td>\n",
       "      <td>not_int</td>\n",
       "      <td>lpsm</td>\n",
       "      <td>sb</td>\n",
       "      <td>pr</td>\n",
       "      <td>home</td>\n",
       "      <td>1U</td>\n",
       "      <td>EQUI</td>\n",
       "      <td>552</td>\n",
       "      <td>EXP</td>\n",
       "      <td>North</td>\n",
       "      <td>direct</td>\n",
       "      <td>1</td>\n",
       "    </tr>\n",
       "    <tr>\n",
       "      <th>2</th>\n",
       "      <td>24892</td>\n",
       "      <td>2019</td>\n",
       "      <td>Male</td>\n",
       "      <td>type1</td>\n",
       "      <td>l1</td>\n",
       "      <td>nopc</td>\n",
       "      <td>nob/c</td>\n",
       "      <td>406500</td>\n",
       "      <td>not_int</td>\n",
       "      <td>not_lpsm</td>\n",
       "      <td>sb</td>\n",
       "      <td>pr</td>\n",
       "      <td>home</td>\n",
       "      <td>1U</td>\n",
       "      <td>EXP</td>\n",
       "      <td>834</td>\n",
       "      <td>CIB</td>\n",
       "      <td>south</td>\n",
       "      <td>direct</td>\n",
       "      <td>0</td>\n",
       "    </tr>\n",
       "    <tr>\n",
       "      <th>3</th>\n",
       "      <td>24893</td>\n",
       "      <td>2019</td>\n",
       "      <td>Male</td>\n",
       "      <td>type1</td>\n",
       "      <td>l1</td>\n",
       "      <td>nopc</td>\n",
       "      <td>nob/c</td>\n",
       "      <td>456500</td>\n",
       "      <td>not_int</td>\n",
       "      <td>not_lpsm</td>\n",
       "      <td>sb</td>\n",
       "      <td>pr</td>\n",
       "      <td>home</td>\n",
       "      <td>1U</td>\n",
       "      <td>EXP</td>\n",
       "      <td>587</td>\n",
       "      <td>CIB</td>\n",
       "      <td>North</td>\n",
       "      <td>direct</td>\n",
       "      <td>0</td>\n",
       "    </tr>\n",
       "    <tr>\n",
       "      <th>4</th>\n",
       "      <td>24894</td>\n",
       "      <td>2019</td>\n",
       "      <td>Joint</td>\n",
       "      <td>type1</td>\n",
       "      <td>l1</td>\n",
       "      <td>nopc</td>\n",
       "      <td>nob/c</td>\n",
       "      <td>696500</td>\n",
       "      <td>not_int</td>\n",
       "      <td>not_lpsm</td>\n",
       "      <td>sb</td>\n",
       "      <td>pr</td>\n",
       "      <td>home</td>\n",
       "      <td>1U</td>\n",
       "      <td>CRIF</td>\n",
       "      <td>602</td>\n",
       "      <td>EXP</td>\n",
       "      <td>North</td>\n",
       "      <td>direct</td>\n",
       "      <td>0</td>\n",
       "    </tr>\n",
       "    <tr>\n",
       "      <th>...</th>\n",
       "      <td>...</td>\n",
       "      <td>...</td>\n",
       "      <td>...</td>\n",
       "      <td>...</td>\n",
       "      <td>...</td>\n",
       "      <td>...</td>\n",
       "      <td>...</td>\n",
       "      <td>...</td>\n",
       "      <td>...</td>\n",
       "      <td>...</td>\n",
       "      <td>...</td>\n",
       "      <td>...</td>\n",
       "      <td>...</td>\n",
       "      <td>...</td>\n",
       "      <td>...</td>\n",
       "      <td>...</td>\n",
       "      <td>...</td>\n",
       "      <td>...</td>\n",
       "      <td>...</td>\n",
       "      <td>...</td>\n",
       "    </tr>\n",
       "    <tr>\n",
       "      <th>148665</th>\n",
       "      <td>173555</td>\n",
       "      <td>2019</td>\n",
       "      <td>Sex Not Available</td>\n",
       "      <td>type1</td>\n",
       "      <td>l1</td>\n",
       "      <td>nopc</td>\n",
       "      <td>nob/c</td>\n",
       "      <td>436500</td>\n",
       "      <td>not_int</td>\n",
       "      <td>not_lpsm</td>\n",
       "      <td>sb</td>\n",
       "      <td>pr</td>\n",
       "      <td>home</td>\n",
       "      <td>1U</td>\n",
       "      <td>CIB</td>\n",
       "      <td>659</td>\n",
       "      <td>EXP</td>\n",
       "      <td>south</td>\n",
       "      <td>direct</td>\n",
       "      <td>0</td>\n",
       "    </tr>\n",
       "    <tr>\n",
       "      <th>148666</th>\n",
       "      <td>173556</td>\n",
       "      <td>2019</td>\n",
       "      <td>Male</td>\n",
       "      <td>type1</td>\n",
       "      <td>l1</td>\n",
       "      <td>nopc</td>\n",
       "      <td>nob/c</td>\n",
       "      <td>586500</td>\n",
       "      <td>not_int</td>\n",
       "      <td>not_lpsm</td>\n",
       "      <td>sb</td>\n",
       "      <td>ir</td>\n",
       "      <td>home</td>\n",
       "      <td>4U</td>\n",
       "      <td>CIB</td>\n",
       "      <td>569</td>\n",
       "      <td>CIB</td>\n",
       "      <td>south</td>\n",
       "      <td>direct</td>\n",
       "      <td>0</td>\n",
       "    </tr>\n",
       "    <tr>\n",
       "      <th>148667</th>\n",
       "      <td>173557</td>\n",
       "      <td>2019</td>\n",
       "      <td>Male</td>\n",
       "      <td>type1</td>\n",
       "      <td>l1</td>\n",
       "      <td>nopc</td>\n",
       "      <td>nob/c</td>\n",
       "      <td>446500</td>\n",
       "      <td>not_int</td>\n",
       "      <td>not_lpsm</td>\n",
       "      <td>sb</td>\n",
       "      <td>pr</td>\n",
       "      <td>home</td>\n",
       "      <td>1U</td>\n",
       "      <td>CIB</td>\n",
       "      <td>702</td>\n",
       "      <td>EXP</td>\n",
       "      <td>North</td>\n",
       "      <td>direct</td>\n",
       "      <td>0</td>\n",
       "    </tr>\n",
       "    <tr>\n",
       "      <th>148668</th>\n",
       "      <td>173558</td>\n",
       "      <td>2019</td>\n",
       "      <td>Female</td>\n",
       "      <td>type1</td>\n",
       "      <td>l1</td>\n",
       "      <td>nopc</td>\n",
       "      <td>nob/c</td>\n",
       "      <td>196500</td>\n",
       "      <td>not_int</td>\n",
       "      <td>not_lpsm</td>\n",
       "      <td>sb</td>\n",
       "      <td>pr</td>\n",
       "      <td>home</td>\n",
       "      <td>1U</td>\n",
       "      <td>EXP</td>\n",
       "      <td>737</td>\n",
       "      <td>EXP</td>\n",
       "      <td>North</td>\n",
       "      <td>direct</td>\n",
       "      <td>0</td>\n",
       "    </tr>\n",
       "    <tr>\n",
       "      <th>148669</th>\n",
       "      <td>173559</td>\n",
       "      <td>2019</td>\n",
       "      <td>Female</td>\n",
       "      <td>type1</td>\n",
       "      <td>l1</td>\n",
       "      <td>nopc</td>\n",
       "      <td>nob/c</td>\n",
       "      <td>406500</td>\n",
       "      <td>not_int</td>\n",
       "      <td>not_lpsm</td>\n",
       "      <td>sb</td>\n",
       "      <td>pr</td>\n",
       "      <td>home</td>\n",
       "      <td>1U</td>\n",
       "      <td>CIB</td>\n",
       "      <td>830</td>\n",
       "      <td>CIB</td>\n",
       "      <td>North</td>\n",
       "      <td>direct</td>\n",
       "      <td>0</td>\n",
       "    </tr>\n",
       "  </tbody>\n",
       "</table>\n",
       "<p>148670 rows × 20 columns</p>\n",
       "</div>"
      ],
      "text/plain": [
       "            ID  year             Gender loan_type Credit_Worthiness  \\\n",
       "0        24890  2019  Sex Not Available     type1                l1   \n",
       "1        24891  2019               Male     type2                l1   \n",
       "2        24892  2019               Male     type1                l1   \n",
       "3        24893  2019               Male     type1                l1   \n",
       "4        24894  2019              Joint     type1                l1   \n",
       "...        ...   ...                ...       ...               ...   \n",
       "148665  173555  2019  Sex Not Available     type1                l1   \n",
       "148666  173556  2019               Male     type1                l1   \n",
       "148667  173557  2019               Male     type1                l1   \n",
       "148668  173558  2019             Female     type1                l1   \n",
       "148669  173559  2019             Female     type1                l1   \n",
       "\n",
       "       open_credit business_or_commercial  loan_amount interest_only  \\\n",
       "0             nopc                  nob/c       116500       not_int   \n",
       "1             nopc                    b/c       206500       not_int   \n",
       "2             nopc                  nob/c       406500       not_int   \n",
       "3             nopc                  nob/c       456500       not_int   \n",
       "4             nopc                  nob/c       696500       not_int   \n",
       "...            ...                    ...          ...           ...   \n",
       "148665        nopc                  nob/c       436500       not_int   \n",
       "148666        nopc                  nob/c       586500       not_int   \n",
       "148667        nopc                  nob/c       446500       not_int   \n",
       "148668        nopc                  nob/c       196500       not_int   \n",
       "148669        nopc                  nob/c       406500       not_int   \n",
       "\n",
       "       lump_sum_payment construction_type occupancy_type Secured_by  \\\n",
       "0              not_lpsm                sb             pr       home   \n",
       "1                  lpsm                sb             pr       home   \n",
       "2              not_lpsm                sb             pr       home   \n",
       "3              not_lpsm                sb             pr       home   \n",
       "4              not_lpsm                sb             pr       home   \n",
       "...                 ...               ...            ...        ...   \n",
       "148665         not_lpsm                sb             pr       home   \n",
       "148666         not_lpsm                sb             ir       home   \n",
       "148667         not_lpsm                sb             pr       home   \n",
       "148668         not_lpsm                sb             pr       home   \n",
       "148669         not_lpsm                sb             pr       home   \n",
       "\n",
       "       total_units credit_type  Credit_Score co-applicant_credit_type Region  \\\n",
       "0               1U         EXP           758                      CIB  south   \n",
       "1               1U        EQUI           552                      EXP  North   \n",
       "2               1U         EXP           834                      CIB  south   \n",
       "3               1U         EXP           587                      CIB  North   \n",
       "4               1U        CRIF           602                      EXP  North   \n",
       "...            ...         ...           ...                      ...    ...   \n",
       "148665          1U         CIB           659                      EXP  south   \n",
       "148666          4U         CIB           569                      CIB  south   \n",
       "148667          1U         CIB           702                      EXP  North   \n",
       "148668          1U         EXP           737                      EXP  North   \n",
       "148669          1U         CIB           830                      CIB  North   \n",
       "\n",
       "       Security_Type  Status  \n",
       "0             direct       1  \n",
       "1             direct       1  \n",
       "2             direct       0  \n",
       "3             direct       0  \n",
       "4             direct       0  \n",
       "...              ...     ...  \n",
       "148665        direct       0  \n",
       "148666        direct       0  \n",
       "148667        direct       0  \n",
       "148668        direct       0  \n",
       "148669        direct       0  \n",
       "\n",
       "[148670 rows x 20 columns]"
      ]
     },
     "execution_count": 58,
     "metadata": {},
     "output_type": "execute_result"
    }
   ],
   "source": [
    "df2= df.dropna(axis=1) ## Deletes records with missing data on a column basis\n",
    "df2"
   ]
  },
  {
   "cell_type": "code",
   "execution_count": 59,
   "metadata": {},
   "outputs": [
    {
     "data": {
      "text/html": [
       "<div>\n",
       "<style scoped>\n",
       "    .dataframe tbody tr th:only-of-type {\n",
       "        vertical-align: middle;\n",
       "    }\n",
       "\n",
       "    .dataframe tbody tr th {\n",
       "        vertical-align: top;\n",
       "    }\n",
       "\n",
       "    .dataframe thead th {\n",
       "        text-align: right;\n",
       "    }\n",
       "</style>\n",
       "<table border=\"1\" class=\"dataframe\">\n",
       "  <thead>\n",
       "    <tr style=\"text-align: right;\">\n",
       "      <th></th>\n",
       "      <th>ID</th>\n",
       "      <th>year</th>\n",
       "      <th>loan_limit</th>\n",
       "      <th>Gender</th>\n",
       "      <th>approv_in_adv</th>\n",
       "      <th>loan_type</th>\n",
       "      <th>loan_purpose</th>\n",
       "      <th>Credit_Worthiness</th>\n",
       "      <th>open_credit</th>\n",
       "      <th>business_or_commercial</th>\n",
       "      <th>...</th>\n",
       "      <th>credit_type</th>\n",
       "      <th>Credit_Score</th>\n",
       "      <th>co-applicant_credit_type</th>\n",
       "      <th>age</th>\n",
       "      <th>submission_of_application</th>\n",
       "      <th>LTV</th>\n",
       "      <th>Region</th>\n",
       "      <th>Security_Type</th>\n",
       "      <th>Status</th>\n",
       "      <th>dtir1</th>\n",
       "    </tr>\n",
       "  </thead>\n",
       "  <tbody>\n",
       "    <tr>\n",
       "      <th>0</th>\n",
       "      <td>24890</td>\n",
       "      <td>2019</td>\n",
       "      <td>cf</td>\n",
       "      <td>Sex Not Available</td>\n",
       "      <td>nopre</td>\n",
       "      <td>type1</td>\n",
       "      <td>p1</td>\n",
       "      <td>l1</td>\n",
       "      <td>nopc</td>\n",
       "      <td>nob/c</td>\n",
       "      <td>...</td>\n",
       "      <td>EXP</td>\n",
       "      <td>758</td>\n",
       "      <td>CIB</td>\n",
       "      <td>25-34</td>\n",
       "      <td>to_inst</td>\n",
       "      <td>98.728814</td>\n",
       "      <td>south</td>\n",
       "      <td>direct</td>\n",
       "      <td>1</td>\n",
       "      <td>45.0</td>\n",
       "    </tr>\n",
       "    <tr>\n",
       "      <th>1</th>\n",
       "      <td>24891</td>\n",
       "      <td>2019</td>\n",
       "      <td>cf</td>\n",
       "      <td>Male</td>\n",
       "      <td>nopre</td>\n",
       "      <td>type2</td>\n",
       "      <td>p1</td>\n",
       "      <td>l1</td>\n",
       "      <td>nopc</td>\n",
       "      <td>b/c</td>\n",
       "      <td>...</td>\n",
       "      <td>EQUI</td>\n",
       "      <td>552</td>\n",
       "      <td>EXP</td>\n",
       "      <td>55-64</td>\n",
       "      <td>to_inst</td>\n",
       "      <td>NaN</td>\n",
       "      <td>North</td>\n",
       "      <td>direct</td>\n",
       "      <td>1</td>\n",
       "      <td>NaN</td>\n",
       "    </tr>\n",
       "    <tr>\n",
       "      <th>2</th>\n",
       "      <td>24892</td>\n",
       "      <td>2019</td>\n",
       "      <td>cf</td>\n",
       "      <td>Male</td>\n",
       "      <td>pre</td>\n",
       "      <td>type1</td>\n",
       "      <td>p1</td>\n",
       "      <td>l1</td>\n",
       "      <td>nopc</td>\n",
       "      <td>nob/c</td>\n",
       "      <td>...</td>\n",
       "      <td>EXP</td>\n",
       "      <td>834</td>\n",
       "      <td>CIB</td>\n",
       "      <td>35-44</td>\n",
       "      <td>to_inst</td>\n",
       "      <td>80.019685</td>\n",
       "      <td>south</td>\n",
       "      <td>direct</td>\n",
       "      <td>0</td>\n",
       "      <td>46.0</td>\n",
       "    </tr>\n",
       "    <tr>\n",
       "      <th>3</th>\n",
       "      <td>24893</td>\n",
       "      <td>2019</td>\n",
       "      <td>cf</td>\n",
       "      <td>Male</td>\n",
       "      <td>nopre</td>\n",
       "      <td>type1</td>\n",
       "      <td>p4</td>\n",
       "      <td>l1</td>\n",
       "      <td>nopc</td>\n",
       "      <td>nob/c</td>\n",
       "      <td>...</td>\n",
       "      <td>EXP</td>\n",
       "      <td>587</td>\n",
       "      <td>CIB</td>\n",
       "      <td>45-54</td>\n",
       "      <td>not_inst</td>\n",
       "      <td>69.376900</td>\n",
       "      <td>North</td>\n",
       "      <td>direct</td>\n",
       "      <td>0</td>\n",
       "      <td>42.0</td>\n",
       "    </tr>\n",
       "    <tr>\n",
       "      <th>4</th>\n",
       "      <td>24894</td>\n",
       "      <td>2019</td>\n",
       "      <td>cf</td>\n",
       "      <td>Joint</td>\n",
       "      <td>pre</td>\n",
       "      <td>type1</td>\n",
       "      <td>p1</td>\n",
       "      <td>l1</td>\n",
       "      <td>nopc</td>\n",
       "      <td>nob/c</td>\n",
       "      <td>...</td>\n",
       "      <td>CRIF</td>\n",
       "      <td>602</td>\n",
       "      <td>EXP</td>\n",
       "      <td>25-34</td>\n",
       "      <td>not_inst</td>\n",
       "      <td>91.886544</td>\n",
       "      <td>North</td>\n",
       "      <td>direct</td>\n",
       "      <td>0</td>\n",
       "      <td>39.0</td>\n",
       "    </tr>\n",
       "    <tr>\n",
       "      <th>...</th>\n",
       "      <td>...</td>\n",
       "      <td>...</td>\n",
       "      <td>...</td>\n",
       "      <td>...</td>\n",
       "      <td>...</td>\n",
       "      <td>...</td>\n",
       "      <td>...</td>\n",
       "      <td>...</td>\n",
       "      <td>...</td>\n",
       "      <td>...</td>\n",
       "      <td>...</td>\n",
       "      <td>...</td>\n",
       "      <td>...</td>\n",
       "      <td>...</td>\n",
       "      <td>...</td>\n",
       "      <td>...</td>\n",
       "      <td>...</td>\n",
       "      <td>...</td>\n",
       "      <td>...</td>\n",
       "      <td>...</td>\n",
       "      <td>...</td>\n",
       "    </tr>\n",
       "    <tr>\n",
       "      <th>148665</th>\n",
       "      <td>173555</td>\n",
       "      <td>2019</td>\n",
       "      <td>cf</td>\n",
       "      <td>Sex Not Available</td>\n",
       "      <td>nopre</td>\n",
       "      <td>type1</td>\n",
       "      <td>p3</td>\n",
       "      <td>l1</td>\n",
       "      <td>nopc</td>\n",
       "      <td>nob/c</td>\n",
       "      <td>...</td>\n",
       "      <td>CIB</td>\n",
       "      <td>659</td>\n",
       "      <td>EXP</td>\n",
       "      <td>55-64</td>\n",
       "      <td>to_inst</td>\n",
       "      <td>71.792763</td>\n",
       "      <td>south</td>\n",
       "      <td>direct</td>\n",
       "      <td>0</td>\n",
       "      <td>48.0</td>\n",
       "    </tr>\n",
       "    <tr>\n",
       "      <th>148666</th>\n",
       "      <td>173556</td>\n",
       "      <td>2019</td>\n",
       "      <td>cf</td>\n",
       "      <td>Male</td>\n",
       "      <td>nopre</td>\n",
       "      <td>type1</td>\n",
       "      <td>p1</td>\n",
       "      <td>l1</td>\n",
       "      <td>nopc</td>\n",
       "      <td>nob/c</td>\n",
       "      <td>...</td>\n",
       "      <td>CIB</td>\n",
       "      <td>569</td>\n",
       "      <td>CIB</td>\n",
       "      <td>25-34</td>\n",
       "      <td>not_inst</td>\n",
       "      <td>74.428934</td>\n",
       "      <td>south</td>\n",
       "      <td>direct</td>\n",
       "      <td>0</td>\n",
       "      <td>15.0</td>\n",
       "    </tr>\n",
       "    <tr>\n",
       "      <th>148667</th>\n",
       "      <td>173557</td>\n",
       "      <td>2019</td>\n",
       "      <td>cf</td>\n",
       "      <td>Male</td>\n",
       "      <td>nopre</td>\n",
       "      <td>type1</td>\n",
       "      <td>p4</td>\n",
       "      <td>l1</td>\n",
       "      <td>nopc</td>\n",
       "      <td>nob/c</td>\n",
       "      <td>...</td>\n",
       "      <td>CIB</td>\n",
       "      <td>702</td>\n",
       "      <td>EXP</td>\n",
       "      <td>45-54</td>\n",
       "      <td>not_inst</td>\n",
       "      <td>61.332418</td>\n",
       "      <td>North</td>\n",
       "      <td>direct</td>\n",
       "      <td>0</td>\n",
       "      <td>49.0</td>\n",
       "    </tr>\n",
       "    <tr>\n",
       "      <th>148668</th>\n",
       "      <td>173558</td>\n",
       "      <td>2019</td>\n",
       "      <td>cf</td>\n",
       "      <td>Female</td>\n",
       "      <td>nopre</td>\n",
       "      <td>type1</td>\n",
       "      <td>p4</td>\n",
       "      <td>l1</td>\n",
       "      <td>nopc</td>\n",
       "      <td>nob/c</td>\n",
       "      <td>...</td>\n",
       "      <td>EXP</td>\n",
       "      <td>737</td>\n",
       "      <td>EXP</td>\n",
       "      <td>55-64</td>\n",
       "      <td>to_inst</td>\n",
       "      <td>70.683453</td>\n",
       "      <td>North</td>\n",
       "      <td>direct</td>\n",
       "      <td>0</td>\n",
       "      <td>29.0</td>\n",
       "    </tr>\n",
       "    <tr>\n",
       "      <th>148669</th>\n",
       "      <td>173559</td>\n",
       "      <td>2019</td>\n",
       "      <td>cf</td>\n",
       "      <td>Female</td>\n",
       "      <td>nopre</td>\n",
       "      <td>type1</td>\n",
       "      <td>p3</td>\n",
       "      <td>l1</td>\n",
       "      <td>nopc</td>\n",
       "      <td>nob/c</td>\n",
       "      <td>...</td>\n",
       "      <td>CIB</td>\n",
       "      <td>830</td>\n",
       "      <td>CIB</td>\n",
       "      <td>45-54</td>\n",
       "      <td>not_inst</td>\n",
       "      <td>72.849462</td>\n",
       "      <td>North</td>\n",
       "      <td>direct</td>\n",
       "      <td>0</td>\n",
       "      <td>44.0</td>\n",
       "    </tr>\n",
       "  </tbody>\n",
       "</table>\n",
       "<p>148670 rows × 33 columns</p>\n",
       "</div>"
      ],
      "text/plain": [
       "            ID  year loan_limit             Gender approv_in_adv loan_type  \\\n",
       "0        24890  2019         cf  Sex Not Available         nopre     type1   \n",
       "1        24891  2019         cf               Male         nopre     type2   \n",
       "2        24892  2019         cf               Male           pre     type1   \n",
       "3        24893  2019         cf               Male         nopre     type1   \n",
       "4        24894  2019         cf              Joint           pre     type1   \n",
       "...        ...   ...        ...                ...           ...       ...   \n",
       "148665  173555  2019         cf  Sex Not Available         nopre     type1   \n",
       "148666  173556  2019         cf               Male         nopre     type1   \n",
       "148667  173557  2019         cf               Male         nopre     type1   \n",
       "148668  173558  2019         cf             Female         nopre     type1   \n",
       "148669  173559  2019         cf             Female         nopre     type1   \n",
       "\n",
       "       loan_purpose Credit_Worthiness open_credit business_or_commercial  ...  \\\n",
       "0                p1                l1        nopc                  nob/c  ...   \n",
       "1                p1                l1        nopc                    b/c  ...   \n",
       "2                p1                l1        nopc                  nob/c  ...   \n",
       "3                p4                l1        nopc                  nob/c  ...   \n",
       "4                p1                l1        nopc                  nob/c  ...   \n",
       "...             ...               ...         ...                    ...  ...   \n",
       "148665           p3                l1        nopc                  nob/c  ...   \n",
       "148666           p1                l1        nopc                  nob/c  ...   \n",
       "148667           p4                l1        nopc                  nob/c  ...   \n",
       "148668           p4                l1        nopc                  nob/c  ...   \n",
       "148669           p3                l1        nopc                  nob/c  ...   \n",
       "\n",
       "        credit_type  Credit_Score  co-applicant_credit_type    age  \\\n",
       "0               EXP           758                       CIB  25-34   \n",
       "1              EQUI           552                       EXP  55-64   \n",
       "2               EXP           834                       CIB  35-44   \n",
       "3               EXP           587                       CIB  45-54   \n",
       "4              CRIF           602                       EXP  25-34   \n",
       "...             ...           ...                       ...    ...   \n",
       "148665          CIB           659                       EXP  55-64   \n",
       "148666          CIB           569                       CIB  25-34   \n",
       "148667          CIB           702                       EXP  45-54   \n",
       "148668          EXP           737                       EXP  55-64   \n",
       "148669          CIB           830                       CIB  45-54   \n",
       "\n",
       "        submission_of_application        LTV Region Security_Type  Status  \\\n",
       "0                         to_inst  98.728814  south        direct       1   \n",
       "1                         to_inst        NaN  North        direct       1   \n",
       "2                         to_inst  80.019685  south        direct       0   \n",
       "3                        not_inst  69.376900  North        direct       0   \n",
       "4                        not_inst  91.886544  North        direct       0   \n",
       "...                           ...        ...    ...           ...     ...   \n",
       "148665                    to_inst  71.792763  south        direct       0   \n",
       "148666                   not_inst  74.428934  south        direct       0   \n",
       "148667                   not_inst  61.332418  North        direct       0   \n",
       "148668                    to_inst  70.683453  North        direct       0   \n",
       "148669                   not_inst  72.849462  North        direct       0   \n",
       "\n",
       "       dtir1  \n",
       "0       45.0  \n",
       "1        NaN  \n",
       "2       46.0  \n",
       "3       42.0  \n",
       "4       39.0  \n",
       "...      ...  \n",
       "148665  48.0  \n",
       "148666  15.0  \n",
       "148667  49.0  \n",
       "148668  29.0  \n",
       "148669  44.0  \n",
       "\n",
       "[148670 rows x 33 columns]"
      ]
     },
     "execution_count": 59,
     "metadata": {},
     "output_type": "execute_result"
    }
   ],
   "source": [
    "df3 = df.drop(\"income\",axis=1) \n",
    "df3"
   ]
  },
  {
   "cell_type": "markdown",
   "metadata": {},
   "source": [
    "## Completing the missing data of a single attribute with the average (mean)"
   ]
  },
  {
   "cell_type": "code",
   "execution_count": 60,
   "metadata": {},
   "outputs": [
    {
     "data": {
      "text/plain": [
       "0         116500\n",
       "1         206500\n",
       "2         406500\n",
       "3         456500\n",
       "4         696500\n",
       "           ...  \n",
       "148665    436500\n",
       "148666    586500\n",
       "148667    446500\n",
       "148668    196500\n",
       "148669    406500\n",
       "Name: loan_amount, Length: 148670, dtype: int64"
      ]
     },
     "execution_count": 60,
     "metadata": {},
     "output_type": "execute_result"
    }
   ],
   "source": [
    "df[\"loan_amount\"].fillna(df[\"loan_amount\"].mean()) "
   ]
  },
  {
   "cell_type": "code",
   "execution_count": 63,
   "metadata": {},
   "outputs": [
    {
     "data": {
      "text/plain": [
       "ID                              0\n",
       "year                            0\n",
       "loan_limit                   3344\n",
       "Gender                          0\n",
       "approv_in_adv                 908\n",
       "loan_type                       0\n",
       "loan_purpose                  134\n",
       "Credit_Worthiness               0\n",
       "open_credit                     0\n",
       "business_or_commercial          0\n",
       "loan_amount                     0\n",
       "rate_of_interest                0\n",
       "Interest_rate_spread            0\n",
       "Upfront_charges                 0\n",
       "term                            0\n",
       "Neg_ammortization             121\n",
       "interest_only                   0\n",
       "lump_sum_payment                0\n",
       "property_value                  0\n",
       "construction_type               0\n",
       "occupancy_type                  0\n",
       "Secured_by                      0\n",
       "total_units                     0\n",
       "income                          0\n",
       "credit_type                     0\n",
       "Credit_Score                    0\n",
       "co-applicant_credit_type        0\n",
       "age                           200\n",
       "submission_of_application     200\n",
       "LTV                             0\n",
       "Region                          0\n",
       "Security_Type                   0\n",
       "Status                          0\n",
       "dtir1                           0\n",
       "dtype: int64"
      ]
     },
     "execution_count": 63,
     "metadata": {},
     "output_type": "execute_result"
    }
   ],
   "source": [
    "## sayısal niteliklerdeki eksik alanları ortalaması ile doldurdum\n",
    "df[\"rate_of_interest\"].fillna(df[\"rate_of_interest\"].mean(),inplace=True) \n",
    "df[\"Interest_rate_spread\"].fillna(df[\"Interest_rate_spread\"].mean(),inplace=True) \n",
    "df[\"Upfront_charges\"].fillna(df[\"Upfront_charges\"].mean(),inplace=True) \n",
    "df[\"term\"].fillna(df[\"term\"].mean(),inplace=True) \n",
    "df[\"property_value\"].fillna(df[\"property_value\"].mean(),inplace=True) \n",
    "df[\"income\"].fillna(df[\"income\"].mean(),inplace=True) \n",
    "df[\"LTV\"].fillna(df[\"LTV\"].mean(),inplace=True) \n",
    "df[\"dtir1\"].fillna(df[\"dtir1\"].mean(),inplace=True) \n",
    "df.isnull().sum() "
   ]
  },
  {
   "cell_type": "markdown",
   "metadata": {},
   "source": [
    "## Completing missing data of a categorical variable (mode)\n"
   ]
  },
  {
   "cell_type": "code",
   "execution_count": 66,
   "metadata": {},
   "outputs": [
    {
     "data": {
      "text/plain": [
       "'not_neg'"
      ]
     },
     "execution_count": 66,
     "metadata": {},
     "output_type": "execute_result"
    }
   ],
   "source": [
    "df[\"Neg_ammortization\"].mode()[0]  "
   ]
  },
  {
   "cell_type": "code",
   "execution_count": 67,
   "metadata": {},
   "outputs": [
    {
     "data": {
      "text/plain": [
       "0         not_neg\n",
       "1         not_neg\n",
       "2         neg_amm\n",
       "3         not_neg\n",
       "4         not_neg\n",
       "           ...   \n",
       "148665    not_neg\n",
       "148666    not_neg\n",
       "148667    not_neg\n",
       "148668    not_neg\n",
       "148669    not_neg\n",
       "Name: Neg_ammortization, Length: 148670, dtype: object"
      ]
     },
     "execution_count": 67,
     "metadata": {},
     "output_type": "execute_result"
    }
   ],
   "source": [
    "df[\"Neg_ammortization\"].fillna(df[\"Neg_ammortization\"].mode()[0])"
   ]
  },
  {
   "cell_type": "markdown",
   "metadata": {},
   "source": [
    "## Outliers Of The Data Set"
   ]
  },
  {
   "cell_type": "code",
   "execution_count": 68,
   "metadata": {},
   "outputs": [
    {
     "data": {
      "text/plain": [
       "<AxesSubplot:xlabel='loan_amount'>"
      ]
     },
     "execution_count": 68,
     "metadata": {},
     "output_type": "execute_result"
    },
    {
     "data": {
      "image/png": "[encoded data removed]",
      "text/plain": [
       "<Figure size 432x288 with 1 Axes>"
      ]
     },
     "metadata": {
      "needs_background": "light"
     },
     "output_type": "display_data"
    }
   ],
   "source": [
    "df_table = df[\"loan_amount\"].copy()\n",
    "sns.boxplot(x=df_table)"
   ]
  },
  {
   "cell_type": "code",
   "execution_count": 69,
   "metadata": {},
   "outputs": [
    {
     "name": "stdout",
     "output_type": "stream",
     "text": [
      "Alt Sınır Değeri : -163500.0\n",
      "Üst Sınır Değeri : 796500.0\n",
      "1. Çeyrek : 196500.0\n",
      "2. Çeyrek : 296500.0\n",
      "3. Çeyrek : 436500.0\n"
     ]
    }
   ],
   "source": [
    "Q1 = df_table.quantile(0.25)\n",
    "Q2 = df_table.quantile(0.5) ## median \n",
    "Q3 = df_table.quantile(0.75)\n",
    "IQR = Q3 - Q1    \n",
    "lower_bound = Q1 - 1.5 * IQR ## lower limit\n",
    "upper_bound = Q3 + 1.5 * IQR ## upper limit\n",
    "print(\"Alt Sınır Değeri : \" + str(lower_bound)) \n",
    "print(\"Üst Sınır Değeri : \" + str(upper_bound)) \n",
    "print(\"1. Çeyrek : \" + str(Q1)) \n",
    "print(\"2. Çeyrek : \" + str(Q2))\n",
    "print(\"3. Çeyrek : \"+ str(Q3))"
   ]
  },
  {
   "cell_type": "code",
   "execution_count": 70,
   "metadata": {},
   "outputs": [
    {
     "data": {
      "text/plain": [
       "0         False\n",
       "1         False\n",
       "2         False\n",
       "3         False\n",
       "4         False\n",
       "          ...  \n",
       "148665    False\n",
       "148666    False\n",
       "148667    False\n",
       "148668    False\n",
       "148669    False\n",
       "Name: loan_amount, Length: 148670, dtype: bool"
      ]
     },
     "execution_count": 70,
     "metadata": {},
     "output_type": "execute_result"
    }
   ],
   "source": [
    "outliers_vector = (df_table < (lower_bound)) | (df_table > (upper_bound) ) \n",
    "outliers_vector"
   ]
  },
  {
   "cell_type": "code",
   "execution_count": 71,
   "metadata": {},
   "outputs": [
    {
     "data": {
      "text/plain": [
       "0         116500\n",
       "1         206500\n",
       "2         406500\n",
       "3         456500\n",
       "4         696500\n",
       "           ...  \n",
       "148665    436500\n",
       "148666    586500\n",
       "148667    446500\n",
       "148668    196500\n",
       "148669    406500\n",
       "Name: loan_amount, Length: 146775, dtype: int64"
      ]
     },
     "execution_count": 71,
     "metadata": {},
     "output_type": "execute_result"
    }
   ],
   "source": [
    "clean_df_table = df_table[~((df_table<(lower_bound)) | (df_table > (upper_bound)))] \n",
    "clean_df_table "
   ]
  },
  {
   "cell_type": "markdown",
   "metadata": {},
   "source": [
    "## Smoothing (KBinsDiscretizer)"
   ]
  },
  {
   "cell_type": "code",
   "execution_count": 72,
   "metadata": {},
   "outputs": [
    {
     "data": {
      "text/plain": [
       "count    148670.000000\n",
       "mean        699.789103\n",
       "std         115.875857\n",
       "min         500.000000\n",
       "25%         599.000000\n",
       "50%         699.000000\n",
       "75%         800.000000\n",
       "max         900.000000\n",
       "Name: Credit_Score, dtype: float64"
      ]
     },
     "execution_count": 72,
     "metadata": {},
     "output_type": "execute_result"
    }
   ],
   "source": [
    "from sklearn.preprocessing import KBinsDiscretizer \n",
    "df.Credit_Score.describe()"
   ]
  },
  {
   "cell_type": "code",
   "execution_count": 73,
   "metadata": {},
   "outputs": [
    {
     "data": {
      "text/plain": [
       "array([[758],\n",
       "       [552],\n",
       "       [834],\n",
       "       ...,\n",
       "       [702],\n",
       "       [737],\n",
       "       [830]], dtype=int64)"
      ]
     },
     "execution_count": 73,
     "metadata": {},
     "output_type": "execute_result"
    }
   ],
   "source": [
    "df_reshape = df.Credit_Score.values.reshape(-1,1)\n",
    "df_reshape"
   ]
  },
  {
   "cell_type": "code",
   "execution_count": 74,
   "metadata": {},
   "outputs": [
    {
     "data": {
      "text/plain": [
       "KBinsDiscretizer(encode='ordinal', n_bins=3, strategy='uniform')"
      ]
     },
     "execution_count": 74,
     "metadata": {},
     "output_type": "execute_result"
    }
   ],
   "source": [
    "Xbin = KBinsDiscretizer(n_bins=3, encode='ordinal', strategy='uniform')\n",
    "Xbin"
   ]
  },
  {
   "cell_type": "code",
   "execution_count": 75,
   "metadata": {},
   "outputs": [
    {
     "data": {
      "text/plain": [
       "array([[1.],\n",
       "       [0.],\n",
       "       [2.],\n",
       "       ...,\n",
       "       [1.],\n",
       "       [1.],\n",
       "       [2.]])"
      ]
     },
     "execution_count": 75,
     "metadata": {},
     "output_type": "execute_result"
    }
   ],
   "source": [
    "Xbin.fit(df_reshape)\n",
    "Xbin.transform(df_reshape)"
   ]
  },
  {
   "cell_type": "markdown",
   "metadata": {},
   "source": [
    "## Sampling"
   ]
  },
  {
   "cell_type": "code",
   "execution_count": 76,
   "metadata": {},
   "outputs": [
    {
     "data": {
      "text/html": [
       "<div>\n",
       "<style scoped>\n",
       "    .dataframe tbody tr th:only-of-type {\n",
       "        vertical-align: middle;\n",
       "    }\n",
       "\n",
       "    .dataframe tbody tr th {\n",
       "        vertical-align: top;\n",
       "    }\n",
       "\n",
       "    .dataframe thead th {\n",
       "        text-align: right;\n",
       "    }\n",
       "</style>\n",
       "<table border=\"1\" class=\"dataframe\">\n",
       "  <thead>\n",
       "    <tr style=\"text-align: right;\">\n",
       "      <th></th>\n",
       "      <th>ID</th>\n",
       "      <th>year</th>\n",
       "      <th>loan_limit</th>\n",
       "      <th>Gender</th>\n",
       "      <th>approv_in_adv</th>\n",
       "      <th>loan_type</th>\n",
       "      <th>loan_purpose</th>\n",
       "      <th>Credit_Worthiness</th>\n",
       "      <th>open_credit</th>\n",
       "      <th>business_or_commercial</th>\n",
       "      <th>...</th>\n",
       "      <th>credit_type</th>\n",
       "      <th>Credit_Score</th>\n",
       "      <th>co-applicant_credit_type</th>\n",
       "      <th>age</th>\n",
       "      <th>submission_of_application</th>\n",
       "      <th>LTV</th>\n",
       "      <th>Region</th>\n",
       "      <th>Security_Type</th>\n",
       "      <th>Status</th>\n",
       "      <th>dtir1</th>\n",
       "    </tr>\n",
       "  </thead>\n",
       "  <tbody>\n",
       "    <tr>\n",
       "      <th>25835</th>\n",
       "      <td>50725</td>\n",
       "      <td>2019</td>\n",
       "      <td>cf</td>\n",
       "      <td>Sex Not Available</td>\n",
       "      <td>nopre</td>\n",
       "      <td>type1</td>\n",
       "      <td>p4</td>\n",
       "      <td>l1</td>\n",
       "      <td>nopc</td>\n",
       "      <td>nob/c</td>\n",
       "      <td>...</td>\n",
       "      <td>CRIF</td>\n",
       "      <td>595</td>\n",
       "      <td>EXP</td>\n",
       "      <td>35-44</td>\n",
       "      <td>to_inst</td>\n",
       "      <td>76.785714</td>\n",
       "      <td>south</td>\n",
       "      <td>direct</td>\n",
       "      <td>0</td>\n",
       "      <td>33.0</td>\n",
       "    </tr>\n",
       "  </tbody>\n",
       "</table>\n",
       "<p>1 rows × 34 columns</p>\n",
       "</div>"
      ],
      "text/plain": [
       "          ID  year loan_limit             Gender approv_in_adv loan_type  \\\n",
       "25835  50725  2019         cf  Sex Not Available         nopre     type1   \n",
       "\n",
       "      loan_purpose Credit_Worthiness open_credit business_or_commercial  ...  \\\n",
       "25835           p4                l1        nopc                  nob/c  ...   \n",
       "\n",
       "       credit_type  Credit_Score  co-applicant_credit_type    age  \\\n",
       "25835         CRIF           595                       EXP  35-44   \n",
       "\n",
       "       submission_of_application        LTV Region Security_Type  Status dtir1  \n",
       "25835                    to_inst  76.785714  south        direct       0  33.0  \n",
       "\n",
       "[1 rows x 34 columns]"
      ]
     },
     "execution_count": 76,
     "metadata": {},
     "output_type": "execute_result"
    }
   ],
   "source": [
    "df.sample() "
   ]
  },
  {
   "cell_type": "code",
   "execution_count": 77,
   "metadata": {
    "scrolled": true
   },
   "outputs": [
    {
     "data": {
      "text/html": [
       "<div>\n",
       "<style scoped>\n",
       "    .dataframe tbody tr th:only-of-type {\n",
       "        vertical-align: middle;\n",
       "    }\n",
       "\n",
       "    .dataframe tbody tr th {\n",
       "        vertical-align: top;\n",
       "    }\n",
       "\n",
       "    .dataframe thead th {\n",
       "        text-align: right;\n",
       "    }\n",
       "</style>\n",
       "<table border=\"1\" class=\"dataframe\">\n",
       "  <thead>\n",
       "    <tr style=\"text-align: right;\">\n",
       "      <th></th>\n",
       "      <th>ID</th>\n",
       "      <th>year</th>\n",
       "      <th>loan_limit</th>\n",
       "      <th>Gender</th>\n",
       "      <th>approv_in_adv</th>\n",
       "      <th>loan_type</th>\n",
       "      <th>loan_purpose</th>\n",
       "      <th>Credit_Worthiness</th>\n",
       "      <th>open_credit</th>\n",
       "      <th>business_or_commercial</th>\n",
       "      <th>...</th>\n",
       "      <th>credit_type</th>\n",
       "      <th>Credit_Score</th>\n",
       "      <th>co-applicant_credit_type</th>\n",
       "      <th>age</th>\n",
       "      <th>submission_of_application</th>\n",
       "      <th>LTV</th>\n",
       "      <th>Region</th>\n",
       "      <th>Security_Type</th>\n",
       "      <th>Status</th>\n",
       "      <th>dtir1</th>\n",
       "    </tr>\n",
       "  </thead>\n",
       "  <tbody>\n",
       "    <tr>\n",
       "      <th>67301</th>\n",
       "      <td>92191</td>\n",
       "      <td>2019</td>\n",
       "      <td>cf</td>\n",
       "      <td>Joint</td>\n",
       "      <td>nopre</td>\n",
       "      <td>type2</td>\n",
       "      <td>p4</td>\n",
       "      <td>l1</td>\n",
       "      <td>nopc</td>\n",
       "      <td>b/c</td>\n",
       "      <td>...</td>\n",
       "      <td>EXP</td>\n",
       "      <td>608</td>\n",
       "      <td>EXP</td>\n",
       "      <td>55-64</td>\n",
       "      <td>not_inst</td>\n",
       "      <td>93.269231</td>\n",
       "      <td>North</td>\n",
       "      <td>direct</td>\n",
       "      <td>0</td>\n",
       "      <td>40.000000</td>\n",
       "    </tr>\n",
       "    <tr>\n",
       "      <th>2933</th>\n",
       "      <td>27823</td>\n",
       "      <td>2019</td>\n",
       "      <td>cf</td>\n",
       "      <td>Sex Not Available</td>\n",
       "      <td>nopre</td>\n",
       "      <td>type3</td>\n",
       "      <td>p4</td>\n",
       "      <td>l1</td>\n",
       "      <td>nopc</td>\n",
       "      <td>nob/c</td>\n",
       "      <td>...</td>\n",
       "      <td>CIB</td>\n",
       "      <td>819</td>\n",
       "      <td>EXP</td>\n",
       "      <td>45-54</td>\n",
       "      <td>not_inst</td>\n",
       "      <td>63.266509</td>\n",
       "      <td>North</td>\n",
       "      <td>direct</td>\n",
       "      <td>0</td>\n",
       "      <td>15.000000</td>\n",
       "    </tr>\n",
       "    <tr>\n",
       "      <th>134141</th>\n",
       "      <td>159031</td>\n",
       "      <td>2019</td>\n",
       "      <td>cf</td>\n",
       "      <td>Sex Not Available</td>\n",
       "      <td>pre</td>\n",
       "      <td>type1</td>\n",
       "      <td>p1</td>\n",
       "      <td>l1</td>\n",
       "      <td>nopc</td>\n",
       "      <td>nob/c</td>\n",
       "      <td>...</td>\n",
       "      <td>EQUI</td>\n",
       "      <td>631</td>\n",
       "      <td>EXP</td>\n",
       "      <td>45-54</td>\n",
       "      <td>to_inst</td>\n",
       "      <td>72.746457</td>\n",
       "      <td>North</td>\n",
       "      <td>direct</td>\n",
       "      <td>1</td>\n",
       "      <td>37.732932</td>\n",
       "    </tr>\n",
       "    <tr>\n",
       "      <th>35787</th>\n",
       "      <td>60677</td>\n",
       "      <td>2019</td>\n",
       "      <td>cf</td>\n",
       "      <td>Joint</td>\n",
       "      <td>nopre</td>\n",
       "      <td>type1</td>\n",
       "      <td>p4</td>\n",
       "      <td>l1</td>\n",
       "      <td>nopc</td>\n",
       "      <td>nob/c</td>\n",
       "      <td>...</td>\n",
       "      <td>CIB</td>\n",
       "      <td>518</td>\n",
       "      <td>EXP</td>\n",
       "      <td>35-44</td>\n",
       "      <td>to_inst</td>\n",
       "      <td>79.534606</td>\n",
       "      <td>North</td>\n",
       "      <td>direct</td>\n",
       "      <td>0</td>\n",
       "      <td>31.000000</td>\n",
       "    </tr>\n",
       "    <tr>\n",
       "      <th>114311</th>\n",
       "      <td>139201</td>\n",
       "      <td>2019</td>\n",
       "      <td>cf</td>\n",
       "      <td>Sex Not Available</td>\n",
       "      <td>nopre</td>\n",
       "      <td>type1</td>\n",
       "      <td>p3</td>\n",
       "      <td>l1</td>\n",
       "      <td>nopc</td>\n",
       "      <td>nob/c</td>\n",
       "      <td>...</td>\n",
       "      <td>CIB</td>\n",
       "      <td>664</td>\n",
       "      <td>CIB</td>\n",
       "      <td>35-44</td>\n",
       "      <td>to_inst</td>\n",
       "      <td>79.454023</td>\n",
       "      <td>south</td>\n",
       "      <td>direct</td>\n",
       "      <td>0</td>\n",
       "      <td>37.000000</td>\n",
       "    </tr>\n",
       "    <tr>\n",
       "      <th>28599</th>\n",
       "      <td>53489</td>\n",
       "      <td>2019</td>\n",
       "      <td>cf</td>\n",
       "      <td>Female</td>\n",
       "      <td>nopre</td>\n",
       "      <td>type1</td>\n",
       "      <td>p4</td>\n",
       "      <td>l1</td>\n",
       "      <td>nopc</td>\n",
       "      <td>nob/c</td>\n",
       "      <td>...</td>\n",
       "      <td>EXP</td>\n",
       "      <td>563</td>\n",
       "      <td>CIB</td>\n",
       "      <td>35-44</td>\n",
       "      <td>to_inst</td>\n",
       "      <td>67.959770</td>\n",
       "      <td>south</td>\n",
       "      <td>direct</td>\n",
       "      <td>0</td>\n",
       "      <td>37.000000</td>\n",
       "    </tr>\n",
       "    <tr>\n",
       "      <th>41438</th>\n",
       "      <td>66328</td>\n",
       "      <td>2019</td>\n",
       "      <td>cf</td>\n",
       "      <td>Joint</td>\n",
       "      <td>nopre</td>\n",
       "      <td>type2</td>\n",
       "      <td>p4</td>\n",
       "      <td>l1</td>\n",
       "      <td>nopc</td>\n",
       "      <td>b/c</td>\n",
       "      <td>...</td>\n",
       "      <td>CRIF</td>\n",
       "      <td>726</td>\n",
       "      <td>EXP</td>\n",
       "      <td>65-74</td>\n",
       "      <td>to_inst</td>\n",
       "      <td>88.074713</td>\n",
       "      <td>North</td>\n",
       "      <td>direct</td>\n",
       "      <td>0</td>\n",
       "      <td>61.000000</td>\n",
       "    </tr>\n",
       "    <tr>\n",
       "      <th>19813</th>\n",
       "      <td>44703</td>\n",
       "      <td>2019</td>\n",
       "      <td>cf</td>\n",
       "      <td>Sex Not Available</td>\n",
       "      <td>nopre</td>\n",
       "      <td>type1</td>\n",
       "      <td>p4</td>\n",
       "      <td>l1</td>\n",
       "      <td>nopc</td>\n",
       "      <td>nob/c</td>\n",
       "      <td>...</td>\n",
       "      <td>EXP</td>\n",
       "      <td>848</td>\n",
       "      <td>CIB</td>\n",
       "      <td>45-54</td>\n",
       "      <td>to_inst</td>\n",
       "      <td>56.990132</td>\n",
       "      <td>south</td>\n",
       "      <td>direct</td>\n",
       "      <td>0</td>\n",
       "      <td>49.000000</td>\n",
       "    </tr>\n",
       "    <tr>\n",
       "      <th>7649</th>\n",
       "      <td>32539</td>\n",
       "      <td>2019</td>\n",
       "      <td>cf</td>\n",
       "      <td>Joint</td>\n",
       "      <td>nopre</td>\n",
       "      <td>type1</td>\n",
       "      <td>p1</td>\n",
       "      <td>l1</td>\n",
       "      <td>nopc</td>\n",
       "      <td>nob/c</td>\n",
       "      <td>...</td>\n",
       "      <td>EQUI</td>\n",
       "      <td>803</td>\n",
       "      <td>EXP</td>\n",
       "      <td>&gt;74</td>\n",
       "      <td>to_inst</td>\n",
       "      <td>72.746457</td>\n",
       "      <td>North</td>\n",
       "      <td>direct</td>\n",
       "      <td>1</td>\n",
       "      <td>37.732932</td>\n",
       "    </tr>\n",
       "    <tr>\n",
       "      <th>32755</th>\n",
       "      <td>57645</td>\n",
       "      <td>2019</td>\n",
       "      <td>cf</td>\n",
       "      <td>Joint</td>\n",
       "      <td>nopre</td>\n",
       "      <td>type1</td>\n",
       "      <td>p1</td>\n",
       "      <td>l1</td>\n",
       "      <td>nopc</td>\n",
       "      <td>nob/c</td>\n",
       "      <td>...</td>\n",
       "      <td>CRIF</td>\n",
       "      <td>635</td>\n",
       "      <td>EXP</td>\n",
       "      <td>35-44</td>\n",
       "      <td>not_inst</td>\n",
       "      <td>74.371069</td>\n",
       "      <td>North</td>\n",
       "      <td>direct</td>\n",
       "      <td>0</td>\n",
       "      <td>26.000000</td>\n",
       "    </tr>\n",
       "  </tbody>\n",
       "</table>\n",
       "<p>10 rows × 34 columns</p>\n",
       "</div>"
      ],
      "text/plain": [
       "            ID  year loan_limit             Gender approv_in_adv loan_type  \\\n",
       "67301    92191  2019         cf              Joint         nopre     type2   \n",
       "2933     27823  2019         cf  Sex Not Available         nopre     type3   \n",
       "134141  159031  2019         cf  Sex Not Available           pre     type1   \n",
       "35787    60677  2019         cf              Joint         nopre     type1   \n",
       "114311  139201  2019         cf  Sex Not Available         nopre     type1   \n",
       "28599    53489  2019         cf             Female         nopre     type1   \n",
       "41438    66328  2019         cf              Joint         nopre     type2   \n",
       "19813    44703  2019         cf  Sex Not Available         nopre     type1   \n",
       "7649     32539  2019         cf              Joint         nopre     type1   \n",
       "32755    57645  2019         cf              Joint         nopre     type1   \n",
       "\n",
       "       loan_purpose Credit_Worthiness open_credit business_or_commercial  ...  \\\n",
       "67301            p4                l1        nopc                    b/c  ...   \n",
       "2933             p4                l1        nopc                  nob/c  ...   \n",
       "134141           p1                l1        nopc                  nob/c  ...   \n",
       "35787            p4                l1        nopc                  nob/c  ...   \n",
       "114311           p3                l1        nopc                  nob/c  ...   \n",
       "28599            p4                l1        nopc                  nob/c  ...   \n",
       "41438            p4                l1        nopc                    b/c  ...   \n",
       "19813            p4                l1        nopc                  nob/c  ...   \n",
       "7649             p1                l1        nopc                  nob/c  ...   \n",
       "32755            p1                l1        nopc                  nob/c  ...   \n",
       "\n",
       "        credit_type  Credit_Score  co-applicant_credit_type    age  \\\n",
       "67301           EXP           608                       EXP  55-64   \n",
       "2933            CIB           819                       EXP  45-54   \n",
       "134141         EQUI           631                       EXP  45-54   \n",
       "35787           CIB           518                       EXP  35-44   \n",
       "114311          CIB           664                       CIB  35-44   \n",
       "28599           EXP           563                       CIB  35-44   \n",
       "41438          CRIF           726                       EXP  65-74   \n",
       "19813           EXP           848                       CIB  45-54   \n",
       "7649           EQUI           803                       EXP    >74   \n",
       "32755          CRIF           635                       EXP  35-44   \n",
       "\n",
       "        submission_of_application        LTV Region Security_Type  Status  \\\n",
       "67301                    not_inst  93.269231  North        direct       0   \n",
       "2933                     not_inst  63.266509  North        direct       0   \n",
       "134141                    to_inst  72.746457  North        direct       1   \n",
       "35787                     to_inst  79.534606  North        direct       0   \n",
       "114311                    to_inst  79.454023  south        direct       0   \n",
       "28599                     to_inst  67.959770  south        direct       0   \n",
       "41438                     to_inst  88.074713  North        direct       0   \n",
       "19813                     to_inst  56.990132  south        direct       0   \n",
       "7649                      to_inst  72.746457  North        direct       1   \n",
       "32755                    not_inst  74.371069  North        direct       0   \n",
       "\n",
       "            dtir1  \n",
       "67301   40.000000  \n",
       "2933    15.000000  \n",
       "134141  37.732932  \n",
       "35787   31.000000  \n",
       "114311  37.000000  \n",
       "28599   37.000000  \n",
       "41438   61.000000  \n",
       "19813   49.000000  \n",
       "7649    37.732932  \n",
       "32755   26.000000  \n",
       "\n",
       "[10 rows x 34 columns]"
      ]
     },
     "execution_count": 77,
     "metadata": {},
     "output_type": "execute_result"
    }
   ],
   "source": [
    "df.sample(10) "
   ]
  },
  {
   "cell_type": "markdown",
   "metadata": {},
   "source": [
    "## --KNN ALGORITHM\n",
    "##   Separation of the data set into training and test set.\n",
    "##   Registering the classification model.\n",
    "##   Evaluating of the model with test data.\n",
    "##   Calculation and display of model correct classification rates.\n",
    "##   Visualization of the results."
   ]
  },
  {
   "cell_type": "code",
   "execution_count": 2,
   "metadata": {},
   "outputs": [],
   "source": [
    "## --KNN ALGORITHM\n",
    "pay = df[df.Status==0] ## pay; customers who pay their debts on time\n",
    "not_pay = df[df.Status==1] ## not_pay; customers who do not pay their debts on time"
   ]
  },
  {
   "cell_type": "code",
   "execution_count": 79,
   "metadata": {},
   "outputs": [
    {
     "data": {
      "image/png": "[encoded data removed]",
      "text/plain": [
       "<Figure size 432x288 with 1 Axes>"
      ]
     },
     "metadata": {
      "needs_background": "light"
     },
     "output_type": "display_data"
    }
   ],
   "source": [
    "plt.scatter(pay.Credit_Score,pay.income,color=\"green\", label=\"Odeyen\")\n",
    "plt.scatter(not_pay.Credit_Score,not_pay.income,color=\"red\", label=\"Odemeyen\")\n",
    "plt.xlabel(\"Credit_Score\")  \n",
    "plt.ylabel(\"income\") \n",
    "plt.legend()\n",
    "plt.show()"
   ]
  },
  {
   "cell_type": "code",
   "execution_count": 104,
   "metadata": {},
   "outputs": [
    {
     "data": {
      "text/html": [
       "<div>\n",
       "<style scoped>\n",
       "    .dataframe tbody tr th:only-of-type {\n",
       "        vertical-align: middle;\n",
       "    }\n",
       "\n",
       "    .dataframe tbody tr th {\n",
       "        vertical-align: top;\n",
       "    }\n",
       "\n",
       "    .dataframe thead th {\n",
       "        text-align: right;\n",
       "    }\n",
       "</style>\n",
       "<table border=\"1\" class=\"dataframe\">\n",
       "  <thead>\n",
       "    <tr style=\"text-align: right;\">\n",
       "      <th></th>\n",
       "      <th>year</th>\n",
       "      <th>loan_amount</th>\n",
       "      <th>rate_of_interest</th>\n",
       "      <th>Interest_rate_spread</th>\n",
       "      <th>Upfront_charges</th>\n",
       "      <th>term</th>\n",
       "      <th>property_value</th>\n",
       "      <th>income</th>\n",
       "      <th>Credit_Score</th>\n",
       "      <th>LTV</th>\n",
       "      <th>Status</th>\n",
       "      <th>dtir1</th>\n",
       "    </tr>\n",
       "  </thead>\n",
       "  <tbody>\n",
       "    <tr>\n",
       "      <th>0</th>\n",
       "      <td>2019</td>\n",
       "      <td>116500</td>\n",
       "      <td>NaN</td>\n",
       "      <td>NaN</td>\n",
       "      <td>NaN</td>\n",
       "      <td>360.0</td>\n",
       "      <td>118000.0</td>\n",
       "      <td>1740.0</td>\n",
       "      <td>758</td>\n",
       "      <td>98.728814</td>\n",
       "      <td>1</td>\n",
       "      <td>45.0</td>\n",
       "    </tr>\n",
       "    <tr>\n",
       "      <th>1</th>\n",
       "      <td>2019</td>\n",
       "      <td>206500</td>\n",
       "      <td>NaN</td>\n",
       "      <td>NaN</td>\n",
       "      <td>NaN</td>\n",
       "      <td>360.0</td>\n",
       "      <td>NaN</td>\n",
       "      <td>4980.0</td>\n",
       "      <td>552</td>\n",
       "      <td>NaN</td>\n",
       "      <td>1</td>\n",
       "      <td>NaN</td>\n",
       "    </tr>\n",
       "    <tr>\n",
       "      <th>2</th>\n",
       "      <td>2019</td>\n",
       "      <td>406500</td>\n",
       "      <td>4.560</td>\n",
       "      <td>0.2000</td>\n",
       "      <td>595.00</td>\n",
       "      <td>360.0</td>\n",
       "      <td>508000.0</td>\n",
       "      <td>9480.0</td>\n",
       "      <td>834</td>\n",
       "      <td>80.019685</td>\n",
       "      <td>0</td>\n",
       "      <td>46.0</td>\n",
       "    </tr>\n",
       "    <tr>\n",
       "      <th>3</th>\n",
       "      <td>2019</td>\n",
       "      <td>456500</td>\n",
       "      <td>4.250</td>\n",
       "      <td>0.6810</td>\n",
       "      <td>NaN</td>\n",
       "      <td>360.0</td>\n",
       "      <td>658000.0</td>\n",
       "      <td>11880.0</td>\n",
       "      <td>587</td>\n",
       "      <td>69.376900</td>\n",
       "      <td>0</td>\n",
       "      <td>42.0</td>\n",
       "    </tr>\n",
       "    <tr>\n",
       "      <th>4</th>\n",
       "      <td>2019</td>\n",
       "      <td>696500</td>\n",
       "      <td>4.000</td>\n",
       "      <td>0.3042</td>\n",
       "      <td>0.00</td>\n",
       "      <td>360.0</td>\n",
       "      <td>758000.0</td>\n",
       "      <td>10440.0</td>\n",
       "      <td>602</td>\n",
       "      <td>91.886544</td>\n",
       "      <td>0</td>\n",
       "      <td>39.0</td>\n",
       "    </tr>\n",
       "    <tr>\n",
       "      <th>...</th>\n",
       "      <td>...</td>\n",
       "      <td>...</td>\n",
       "      <td>...</td>\n",
       "      <td>...</td>\n",
       "      <td>...</td>\n",
       "      <td>...</td>\n",
       "      <td>...</td>\n",
       "      <td>...</td>\n",
       "      <td>...</td>\n",
       "      <td>...</td>\n",
       "      <td>...</td>\n",
       "      <td>...</td>\n",
       "    </tr>\n",
       "    <tr>\n",
       "      <th>148665</th>\n",
       "      <td>2019</td>\n",
       "      <td>436500</td>\n",
       "      <td>3.125</td>\n",
       "      <td>0.2571</td>\n",
       "      <td>9960.00</td>\n",
       "      <td>180.0</td>\n",
       "      <td>608000.0</td>\n",
       "      <td>7860.0</td>\n",
       "      <td>659</td>\n",
       "      <td>71.792763</td>\n",
       "      <td>0</td>\n",
       "      <td>48.0</td>\n",
       "    </tr>\n",
       "    <tr>\n",
       "      <th>148666</th>\n",
       "      <td>2019</td>\n",
       "      <td>586500</td>\n",
       "      <td>5.190</td>\n",
       "      <td>0.8544</td>\n",
       "      <td>0.00</td>\n",
       "      <td>360.0</td>\n",
       "      <td>788000.0</td>\n",
       "      <td>7140.0</td>\n",
       "      <td>569</td>\n",
       "      <td>74.428934</td>\n",
       "      <td>0</td>\n",
       "      <td>15.0</td>\n",
       "    </tr>\n",
       "    <tr>\n",
       "      <th>148667</th>\n",
       "      <td>2019</td>\n",
       "      <td>446500</td>\n",
       "      <td>3.125</td>\n",
       "      <td>0.0816</td>\n",
       "      <td>1226.64</td>\n",
       "      <td>180.0</td>\n",
       "      <td>728000.0</td>\n",
       "      <td>6900.0</td>\n",
       "      <td>702</td>\n",
       "      <td>61.332418</td>\n",
       "      <td>0</td>\n",
       "      <td>49.0</td>\n",
       "    </tr>\n",
       "    <tr>\n",
       "      <th>148668</th>\n",
       "      <td>2019</td>\n",
       "      <td>196500</td>\n",
       "      <td>3.500</td>\n",
       "      <td>0.5824</td>\n",
       "      <td>4323.33</td>\n",
       "      <td>180.0</td>\n",
       "      <td>278000.0</td>\n",
       "      <td>7140.0</td>\n",
       "      <td>737</td>\n",
       "      <td>70.683453</td>\n",
       "      <td>0</td>\n",
       "      <td>29.0</td>\n",
       "    </tr>\n",
       "    <tr>\n",
       "      <th>148669</th>\n",
       "      <td>2019</td>\n",
       "      <td>406500</td>\n",
       "      <td>4.375</td>\n",
       "      <td>1.3871</td>\n",
       "      <td>6000.00</td>\n",
       "      <td>240.0</td>\n",
       "      <td>558000.0</td>\n",
       "      <td>7260.0</td>\n",
       "      <td>830</td>\n",
       "      <td>72.849462</td>\n",
       "      <td>0</td>\n",
       "      <td>44.0</td>\n",
       "    </tr>\n",
       "  </tbody>\n",
       "</table>\n",
       "<p>148670 rows × 12 columns</p>\n",
       "</div>"
      ],
      "text/plain": [
       "        year  loan_amount  rate_of_interest  Interest_rate_spread  \\\n",
       "0       2019       116500               NaN                   NaN   \n",
       "1       2019       206500               NaN                   NaN   \n",
       "2       2019       406500             4.560                0.2000   \n",
       "3       2019       456500             4.250                0.6810   \n",
       "4       2019       696500             4.000                0.3042   \n",
       "...      ...          ...               ...                   ...   \n",
       "148665  2019       436500             3.125                0.2571   \n",
       "148666  2019       586500             5.190                0.8544   \n",
       "148667  2019       446500             3.125                0.0816   \n",
       "148668  2019       196500             3.500                0.5824   \n",
       "148669  2019       406500             4.375                1.3871   \n",
       "\n",
       "        Upfront_charges   term  property_value   income  Credit_Score  \\\n",
       "0                   NaN  360.0        118000.0   1740.0           758   \n",
       "1                   NaN  360.0             NaN   4980.0           552   \n",
       "2                595.00  360.0        508000.0   9480.0           834   \n",
       "3                   NaN  360.0        658000.0  11880.0           587   \n",
       "4                  0.00  360.0        758000.0  10440.0           602   \n",
       "...                 ...    ...             ...      ...           ...   \n",
       "148665          9960.00  180.0        608000.0   7860.0           659   \n",
       "148666             0.00  360.0        788000.0   7140.0           569   \n",
       "148667          1226.64  180.0        728000.0   6900.0           702   \n",
       "148668          4323.33  180.0        278000.0   7140.0           737   \n",
       "148669          6000.00  240.0        558000.0   7260.0           830   \n",
       "\n",
       "              LTV  Status  dtir1  \n",
       "0       98.728814       1   45.0  \n",
       "1             NaN       1    NaN  \n",
       "2       80.019685       0   46.0  \n",
       "3       69.376900       0   42.0  \n",
       "4       91.886544       0   39.0  \n",
       "...           ...     ...    ...  \n",
       "148665  71.792763       0   48.0  \n",
       "148666  74.428934       0   15.0  \n",
       "148667  61.332418       0   49.0  \n",
       "148668  70.683453       0   29.0  \n",
       "148669  72.849462       0   44.0  \n",
       "\n",
       "[148670 rows x 12 columns]"
      ]
     },
     "execution_count": 104,
     "metadata": {},
     "output_type": "execute_result"
    }
   ],
   "source": [
    "df.drop([\"ID\",\"loan_limit\",\"Gender\",\"approv_in_adv\",\"loan_type\",\"loan_purpose\",\"Credit_Worthiness\",\"open_credit\",\"business_or_commercial\",\"Neg_ammortization\",\"interest_only\",\"lump_sum_payment\",\"construction_type\",\"occupancy_type\",\"Secured_by\",\"total_units\",\"credit_type\",\"co-applicant_credit_type\",\"age\",\"submission_of_application\",\"Region\",\"Security_Type\"],axis=1,inplace=True)\n",
    "## non-numeric values and ID column removed from dataset\n",
    "df"
   ]
  },
  {
   "cell_type": "code",
   "execution_count": 106,
   "metadata": {},
   "outputs": [
    {
     "data": {
      "text/html": [
       "<div>\n",
       "<style scoped>\n",
       "    .dataframe tbody tr th:only-of-type {\n",
       "        vertical-align: middle;\n",
       "    }\n",
       "\n",
       "    .dataframe tbody tr th {\n",
       "        vertical-align: top;\n",
       "    }\n",
       "\n",
       "    .dataframe thead th {\n",
       "        text-align: right;\n",
       "    }\n",
       "</style>\n",
       "<table border=\"1\" class=\"dataframe\">\n",
       "  <thead>\n",
       "    <tr style=\"text-align: right;\">\n",
       "      <th></th>\n",
       "      <th>year</th>\n",
       "      <th>loan_amount</th>\n",
       "      <th>rate_of_interest</th>\n",
       "      <th>Interest_rate_spread</th>\n",
       "      <th>Upfront_charges</th>\n",
       "      <th>term</th>\n",
       "      <th>property_value</th>\n",
       "      <th>income</th>\n",
       "      <th>Credit_Score</th>\n",
       "      <th>LTV</th>\n",
       "      <th>Status</th>\n",
       "      <th>dtir1</th>\n",
       "    </tr>\n",
       "  </thead>\n",
       "  <tbody>\n",
       "    <tr>\n",
       "      <th>2</th>\n",
       "      <td>2019</td>\n",
       "      <td>406500</td>\n",
       "      <td>4.560</td>\n",
       "      <td>0.2000</td>\n",
       "      <td>595.00</td>\n",
       "      <td>360.0</td>\n",
       "      <td>508000.0</td>\n",
       "      <td>9480.0</td>\n",
       "      <td>834</td>\n",
       "      <td>80.019685</td>\n",
       "      <td>0</td>\n",
       "      <td>46.0</td>\n",
       "    </tr>\n",
       "    <tr>\n",
       "      <th>3</th>\n",
       "      <td>2019</td>\n",
       "      <td>456500</td>\n",
       "      <td>4.250</td>\n",
       "      <td>0.6810</td>\n",
       "      <td>NaN</td>\n",
       "      <td>360.0</td>\n",
       "      <td>658000.0</td>\n",
       "      <td>11880.0</td>\n",
       "      <td>587</td>\n",
       "      <td>69.376900</td>\n",
       "      <td>0</td>\n",
       "      <td>42.0</td>\n",
       "    </tr>\n",
       "    <tr>\n",
       "      <th>4</th>\n",
       "      <td>2019</td>\n",
       "      <td>696500</td>\n",
       "      <td>4.000</td>\n",
       "      <td>0.3042</td>\n",
       "      <td>0.00</td>\n",
       "      <td>360.0</td>\n",
       "      <td>758000.0</td>\n",
       "      <td>10440.0</td>\n",
       "      <td>602</td>\n",
       "      <td>91.886544</td>\n",
       "      <td>0</td>\n",
       "      <td>39.0</td>\n",
       "    </tr>\n",
       "    <tr>\n",
       "      <th>5</th>\n",
       "      <td>2019</td>\n",
       "      <td>706500</td>\n",
       "      <td>3.990</td>\n",
       "      <td>0.1523</td>\n",
       "      <td>370.00</td>\n",
       "      <td>360.0</td>\n",
       "      <td>1008000.0</td>\n",
       "      <td>10080.0</td>\n",
       "      <td>864</td>\n",
       "      <td>70.089286</td>\n",
       "      <td>0</td>\n",
       "      <td>40.0</td>\n",
       "    </tr>\n",
       "    <tr>\n",
       "      <th>6</th>\n",
       "      <td>2019</td>\n",
       "      <td>346500</td>\n",
       "      <td>4.500</td>\n",
       "      <td>0.9998</td>\n",
       "      <td>5120.00</td>\n",
       "      <td>360.0</td>\n",
       "      <td>438000.0</td>\n",
       "      <td>5040.0</td>\n",
       "      <td>860</td>\n",
       "      <td>79.109589</td>\n",
       "      <td>0</td>\n",
       "      <td>44.0</td>\n",
       "    </tr>\n",
       "    <tr>\n",
       "      <th>...</th>\n",
       "      <td>...</td>\n",
       "      <td>...</td>\n",
       "      <td>...</td>\n",
       "      <td>...</td>\n",
       "      <td>...</td>\n",
       "      <td>...</td>\n",
       "      <td>...</td>\n",
       "      <td>...</td>\n",
       "      <td>...</td>\n",
       "      <td>...</td>\n",
       "      <td>...</td>\n",
       "      <td>...</td>\n",
       "    </tr>\n",
       "    <tr>\n",
       "      <th>148665</th>\n",
       "      <td>2019</td>\n",
       "      <td>436500</td>\n",
       "      <td>3.125</td>\n",
       "      <td>0.2571</td>\n",
       "      <td>9960.00</td>\n",
       "      <td>180.0</td>\n",
       "      <td>608000.0</td>\n",
       "      <td>7860.0</td>\n",
       "      <td>659</td>\n",
       "      <td>71.792763</td>\n",
       "      <td>0</td>\n",
       "      <td>48.0</td>\n",
       "    </tr>\n",
       "    <tr>\n",
       "      <th>148666</th>\n",
       "      <td>2019</td>\n",
       "      <td>586500</td>\n",
       "      <td>5.190</td>\n",
       "      <td>0.8544</td>\n",
       "      <td>0.00</td>\n",
       "      <td>360.0</td>\n",
       "      <td>788000.0</td>\n",
       "      <td>7140.0</td>\n",
       "      <td>569</td>\n",
       "      <td>74.428934</td>\n",
       "      <td>0</td>\n",
       "      <td>15.0</td>\n",
       "    </tr>\n",
       "    <tr>\n",
       "      <th>148667</th>\n",
       "      <td>2019</td>\n",
       "      <td>446500</td>\n",
       "      <td>3.125</td>\n",
       "      <td>0.0816</td>\n",
       "      <td>1226.64</td>\n",
       "      <td>180.0</td>\n",
       "      <td>728000.0</td>\n",
       "      <td>6900.0</td>\n",
       "      <td>702</td>\n",
       "      <td>61.332418</td>\n",
       "      <td>0</td>\n",
       "      <td>49.0</td>\n",
       "    </tr>\n",
       "    <tr>\n",
       "      <th>148668</th>\n",
       "      <td>2019</td>\n",
       "      <td>196500</td>\n",
       "      <td>3.500</td>\n",
       "      <td>0.5824</td>\n",
       "      <td>4323.33</td>\n",
       "      <td>180.0</td>\n",
       "      <td>278000.0</td>\n",
       "      <td>7140.0</td>\n",
       "      <td>737</td>\n",
       "      <td>70.683453</td>\n",
       "      <td>0</td>\n",
       "      <td>29.0</td>\n",
       "    </tr>\n",
       "    <tr>\n",
       "      <th>148669</th>\n",
       "      <td>2019</td>\n",
       "      <td>406500</td>\n",
       "      <td>4.375</td>\n",
       "      <td>1.3871</td>\n",
       "      <td>6000.00</td>\n",
       "      <td>240.0</td>\n",
       "      <td>558000.0</td>\n",
       "      <td>7260.0</td>\n",
       "      <td>830</td>\n",
       "      <td>72.849462</td>\n",
       "      <td>0</td>\n",
       "      <td>44.0</td>\n",
       "    </tr>\n",
       "  </tbody>\n",
       "</table>\n",
       "<p>112031 rows × 12 columns</p>\n",
       "</div>"
      ],
      "text/plain": [
       "        year  loan_amount  rate_of_interest  Interest_rate_spread  \\\n",
       "2       2019       406500             4.560                0.2000   \n",
       "3       2019       456500             4.250                0.6810   \n",
       "4       2019       696500             4.000                0.3042   \n",
       "5       2019       706500             3.990                0.1523   \n",
       "6       2019       346500             4.500                0.9998   \n",
       "...      ...          ...               ...                   ...   \n",
       "148665  2019       436500             3.125                0.2571   \n",
       "148666  2019       586500             5.190                0.8544   \n",
       "148667  2019       446500             3.125                0.0816   \n",
       "148668  2019       196500             3.500                0.5824   \n",
       "148669  2019       406500             4.375                1.3871   \n",
       "\n",
       "        Upfront_charges   term  property_value   income  Credit_Score  \\\n",
       "2                595.00  360.0        508000.0   9480.0           834   \n",
       "3                   NaN  360.0        658000.0  11880.0           587   \n",
       "4                  0.00  360.0        758000.0  10440.0           602   \n",
       "5                370.00  360.0       1008000.0  10080.0           864   \n",
       "6               5120.00  360.0        438000.0   5040.0           860   \n",
       "...                 ...    ...             ...      ...           ...   \n",
       "148665          9960.00  180.0        608000.0   7860.0           659   \n",
       "148666             0.00  360.0        788000.0   7140.0           569   \n",
       "148667          1226.64  180.0        728000.0   6900.0           702   \n",
       "148668          4323.33  180.0        278000.0   7140.0           737   \n",
       "148669          6000.00  240.0        558000.0   7260.0           830   \n",
       "\n",
       "              LTV  Status  dtir1  \n",
       "2       80.019685       0   46.0  \n",
       "3       69.376900       0   42.0  \n",
       "4       91.886544       0   39.0  \n",
       "5       70.089286       0   40.0  \n",
       "6       79.109589       0   44.0  \n",
       "...           ...     ...    ...  \n",
       "148665  71.792763       0   48.0  \n",
       "148666  74.428934       0   15.0  \n",
       "148667  61.332418       0   49.0  \n",
       "148668  70.683453       0   29.0  \n",
       "148669  72.849462       0   44.0  \n",
       "\n",
       "[112031 rows x 12 columns]"
      ]
     },
     "execution_count": 106,
     "metadata": {},
     "output_type": "execute_result"
    }
   ],
   "source": [
    "pay"
   ]
  },
  {
   "cell_type": "code",
   "execution_count": 107,
   "metadata": {},
   "outputs": [
    {
     "data": {
      "text/html": [
       "<div>\n",
       "<style scoped>\n",
       "    .dataframe tbody tr th:only-of-type {\n",
       "        vertical-align: middle;\n",
       "    }\n",
       "\n",
       "    .dataframe tbody tr th {\n",
       "        vertical-align: top;\n",
       "    }\n",
       "\n",
       "    .dataframe thead th {\n",
       "        text-align: right;\n",
       "    }\n",
       "</style>\n",
       "<table border=\"1\" class=\"dataframe\">\n",
       "  <thead>\n",
       "    <tr style=\"text-align: right;\">\n",
       "      <th></th>\n",
       "      <th>year</th>\n",
       "      <th>loan_amount</th>\n",
       "      <th>rate_of_interest</th>\n",
       "      <th>Interest_rate_spread</th>\n",
       "      <th>Upfront_charges</th>\n",
       "      <th>term</th>\n",
       "      <th>property_value</th>\n",
       "      <th>income</th>\n",
       "      <th>Credit_Score</th>\n",
       "      <th>LTV</th>\n",
       "      <th>Status</th>\n",
       "      <th>dtir1</th>\n",
       "    </tr>\n",
       "  </thead>\n",
       "  <tbody>\n",
       "    <tr>\n",
       "      <th>0</th>\n",
       "      <td>2019</td>\n",
       "      <td>116500</td>\n",
       "      <td>NaN</td>\n",
       "      <td>NaN</td>\n",
       "      <td>NaN</td>\n",
       "      <td>360.0</td>\n",
       "      <td>118000.0</td>\n",
       "      <td>1740.0</td>\n",
       "      <td>758</td>\n",
       "      <td>98.728814</td>\n",
       "      <td>1</td>\n",
       "      <td>45.0</td>\n",
       "    </tr>\n",
       "    <tr>\n",
       "      <th>1</th>\n",
       "      <td>2019</td>\n",
       "      <td>206500</td>\n",
       "      <td>NaN</td>\n",
       "      <td>NaN</td>\n",
       "      <td>NaN</td>\n",
       "      <td>360.0</td>\n",
       "      <td>NaN</td>\n",
       "      <td>4980.0</td>\n",
       "      <td>552</td>\n",
       "      <td>NaN</td>\n",
       "      <td>1</td>\n",
       "      <td>NaN</td>\n",
       "    </tr>\n",
       "    <tr>\n",
       "      <th>10</th>\n",
       "      <td>2019</td>\n",
       "      <td>136500</td>\n",
       "      <td>NaN</td>\n",
       "      <td>NaN</td>\n",
       "      <td>NaN</td>\n",
       "      <td>300.0</td>\n",
       "      <td>168000.0</td>\n",
       "      <td>4020.0</td>\n",
       "      <td>723</td>\n",
       "      <td>81.250000</td>\n",
       "      <td>1</td>\n",
       "      <td>44.0</td>\n",
       "    </tr>\n",
       "    <tr>\n",
       "      <th>12</th>\n",
       "      <td>2019</td>\n",
       "      <td>206500</td>\n",
       "      <td>NaN</td>\n",
       "      <td>NaN</td>\n",
       "      <td>NaN</td>\n",
       "      <td>360.0</td>\n",
       "      <td>258000.0</td>\n",
       "      <td>3780.0</td>\n",
       "      <td>884</td>\n",
       "      <td>80.038760</td>\n",
       "      <td>1</td>\n",
       "      <td>51.0</td>\n",
       "    </tr>\n",
       "    <tr>\n",
       "      <th>15</th>\n",
       "      <td>2019</td>\n",
       "      <td>76500</td>\n",
       "      <td>NaN</td>\n",
       "      <td>NaN</td>\n",
       "      <td>NaN</td>\n",
       "      <td>360.0</td>\n",
       "      <td>138000.0</td>\n",
       "      <td>2220.0</td>\n",
       "      <td>685</td>\n",
       "      <td>55.434783</td>\n",
       "      <td>1</td>\n",
       "      <td>20.0</td>\n",
       "    </tr>\n",
       "    <tr>\n",
       "      <th>...</th>\n",
       "      <td>...</td>\n",
       "      <td>...</td>\n",
       "      <td>...</td>\n",
       "      <td>...</td>\n",
       "      <td>...</td>\n",
       "      <td>...</td>\n",
       "      <td>...</td>\n",
       "      <td>...</td>\n",
       "      <td>...</td>\n",
       "      <td>...</td>\n",
       "      <td>...</td>\n",
       "      <td>...</td>\n",
       "    </tr>\n",
       "    <tr>\n",
       "      <th>148651</th>\n",
       "      <td>2019</td>\n",
       "      <td>446500</td>\n",
       "      <td>NaN</td>\n",
       "      <td>NaN</td>\n",
       "      <td>NaN</td>\n",
       "      <td>360.0</td>\n",
       "      <td>508000.0</td>\n",
       "      <td>12300.0</td>\n",
       "      <td>897</td>\n",
       "      <td>87.893701</td>\n",
       "      <td>1</td>\n",
       "      <td>37.0</td>\n",
       "    </tr>\n",
       "    <tr>\n",
       "      <th>148652</th>\n",
       "      <td>2019</td>\n",
       "      <td>96500</td>\n",
       "      <td>NaN</td>\n",
       "      <td>NaN</td>\n",
       "      <td>NaN</td>\n",
       "      <td>180.0</td>\n",
       "      <td>NaN</td>\n",
       "      <td>5460.0</td>\n",
       "      <td>608</td>\n",
       "      <td>NaN</td>\n",
       "      <td>1</td>\n",
       "      <td>NaN</td>\n",
       "    </tr>\n",
       "    <tr>\n",
       "      <th>148658</th>\n",
       "      <td>2019</td>\n",
       "      <td>386500</td>\n",
       "      <td>NaN</td>\n",
       "      <td>NaN</td>\n",
       "      <td>NaN</td>\n",
       "      <td>360.0</td>\n",
       "      <td>NaN</td>\n",
       "      <td>4680.0</td>\n",
       "      <td>669</td>\n",
       "      <td>NaN</td>\n",
       "      <td>1</td>\n",
       "      <td>NaN</td>\n",
       "    </tr>\n",
       "    <tr>\n",
       "      <th>148661</th>\n",
       "      <td>2019</td>\n",
       "      <td>346500</td>\n",
       "      <td>NaN</td>\n",
       "      <td>NaN</td>\n",
       "      <td>NaN</td>\n",
       "      <td>360.0</td>\n",
       "      <td>358000.0</td>\n",
       "      <td>NaN</td>\n",
       "      <td>585</td>\n",
       "      <td>96.787709</td>\n",
       "      <td>1</td>\n",
       "      <td>NaN</td>\n",
       "    </tr>\n",
       "    <tr>\n",
       "      <th>148663</th>\n",
       "      <td>2019</td>\n",
       "      <td>106500</td>\n",
       "      <td>NaN</td>\n",
       "      <td>NaN</td>\n",
       "      <td>NaN</td>\n",
       "      <td>360.0</td>\n",
       "      <td>NaN</td>\n",
       "      <td>1860.0</td>\n",
       "      <td>619</td>\n",
       "      <td>NaN</td>\n",
       "      <td>1</td>\n",
       "      <td>NaN</td>\n",
       "    </tr>\n",
       "  </tbody>\n",
       "</table>\n",
       "<p>36639 rows × 12 columns</p>\n",
       "</div>"
      ],
      "text/plain": [
       "        year  loan_amount  rate_of_interest  Interest_rate_spread  \\\n",
       "0       2019       116500               NaN                   NaN   \n",
       "1       2019       206500               NaN                   NaN   \n",
       "10      2019       136500               NaN                   NaN   \n",
       "12      2019       206500               NaN                   NaN   \n",
       "15      2019        76500               NaN                   NaN   \n",
       "...      ...          ...               ...                   ...   \n",
       "148651  2019       446500               NaN                   NaN   \n",
       "148652  2019        96500               NaN                   NaN   \n",
       "148658  2019       386500               NaN                   NaN   \n",
       "148661  2019       346500               NaN                   NaN   \n",
       "148663  2019       106500               NaN                   NaN   \n",
       "\n",
       "        Upfront_charges   term  property_value   income  Credit_Score  \\\n",
       "0                   NaN  360.0        118000.0   1740.0           758   \n",
       "1                   NaN  360.0             NaN   4980.0           552   \n",
       "10                  NaN  300.0        168000.0   4020.0           723   \n",
       "12                  NaN  360.0        258000.0   3780.0           884   \n",
       "15                  NaN  360.0        138000.0   2220.0           685   \n",
       "...                 ...    ...             ...      ...           ...   \n",
       "148651              NaN  360.0        508000.0  12300.0           897   \n",
       "148652              NaN  180.0             NaN   5460.0           608   \n",
       "148658              NaN  360.0             NaN   4680.0           669   \n",
       "148661              NaN  360.0        358000.0      NaN           585   \n",
       "148663              NaN  360.0             NaN   1860.0           619   \n",
       "\n",
       "              LTV  Status  dtir1  \n",
       "0       98.728814       1   45.0  \n",
       "1             NaN       1    NaN  \n",
       "10      81.250000       1   44.0  \n",
       "12      80.038760       1   51.0  \n",
       "15      55.434783       1   20.0  \n",
       "...           ...     ...    ...  \n",
       "148651  87.893701       1   37.0  \n",
       "148652        NaN       1    NaN  \n",
       "148658        NaN       1    NaN  \n",
       "148661  96.787709       1    NaN  \n",
       "148663        NaN       1    NaN  \n",
       "\n",
       "[36639 rows x 12 columns]"
      ]
     },
     "execution_count": 107,
     "metadata": {},
     "output_type": "execute_result"
    }
   ],
   "source": [
    "not_pay"
   ]
  },
  {
   "cell_type": "code",
   "execution_count": 109,
   "metadata": {
    "scrolled": true
   },
   "outputs": [
    {
     "data": {
      "text/plain": [
       "year                    0\n",
       "loan_amount             0\n",
       "rate_of_interest        0\n",
       "Interest_rate_spread    0\n",
       "Upfront_charges         0\n",
       "term                    0\n",
       "property_value          0\n",
       "income                  0\n",
       "Credit_Score            0\n",
       "LTV                     0\n",
       "Status                  0\n",
       "dtir1                   0\n",
       "dtype: int64"
      ]
     },
     "execution_count": 109,
     "metadata": {},
     "output_type": "execute_result"
    }
   ],
   "source": [
    "df[\"rate_of_interest\"].fillna(df[\"rate_of_interest\"].mean(),inplace=True) \n",
    "df[\"Interest_rate_spread\"].fillna(df[\"Interest_rate_spread\"].mean(),inplace=True) \n",
    "df[\"Upfront_charges\"].fillna(df[\"Upfront_charges\"].mean(),inplace=True) \n",
    "df[\"term\"].fillna(df[\"term\"].mean(),inplace=True) \n",
    "df[\"property_value\"].fillna(df[\"property_value\"].mean(),inplace=True) \n",
    "df[\"income\"].fillna(df[\"income\"].mean(),inplace=True) \n",
    "df[\"LTV\"].fillna(df[\"LTV\"].mean(),inplace=True) \n",
    "df[\"dtir1\"].fillna(df[\"dtir1\"].mean(),inplace=True) \n",
    "df.isnull().sum() "
   ]
  },
  {
   "cell_type": "code",
   "execution_count": 111,
   "metadata": {},
   "outputs": [
    {
     "name": "stdout",
     "output_type": "stream",
     "text": [
      "DOGRULUK =  0.8699580726889532\n"
     ]
    }
   ],
   "source": [
    "Y=df.Status ## The attribute selected for classification is \"Status\".\n",
    "df.drop([\"Status\"],axis=1, inplace=True) \n",
    "## The classified attribute is extracted from the data set.\n",
    "from sklearn.model_selection import train_test_split\n",
    "from sklearn.neighbors import KNeighborsClassifier\n",
    "from sklearn import metrics\n",
    "\n",
    "## Separation of the data set into training and test set.\n",
    "x_train, x_test, y_train, y_test = train_test_split(df, Y, test_size=0.3) \n",
    "## 30% of the data set was reserved as test data.\n",
    "\n",
    "## Registering the classification model.\n",
    "knn = KNeighborsClassifier(n_neighbors=3) \n",
    "knn.fit(x_train, y_train)\n",
    "\n",
    "## Evaluating of the model with test data.\n",
    "y_pred = knn.predict(x_test)\n",
    "print(\"DOGRULUK = \", metrics.accuracy_score(y_test, y_pred)) "
   ]
  },
  {
   "cell_type": "code",
   "execution_count": 114,
   "metadata": {
    "scrolled": true
   },
   "outputs": [
    {
     "data": {
      "image/png": "[encoded data removed]",
      "text/plain": [
       "<Figure size 432x288 with 2 Axes>"
      ]
     },
     "metadata": {
      "needs_background": "light"
     },
     "output_type": "display_data"
    }
   ],
   "source": [
    "from sklearn.metrics import confusion_matrix as cm\n",
    "import seaborn as sns\n",
    "\n",
    "## Calculation and display of model correct classification rates.\n",
    "score = metrics.accuracy_score(y_test,y_pred) ## confusion matrix\n",
    "cm1 = cm(y_test,y_pred)\n",
    "\n",
    "## Visualization of the results.\n",
    "sns.heatmap(cm1,annot=True, fmt=\".0f\") ## \"Heatmap\" was used for visualization.\n",
    "plt.xlabel(\"Predicted Values\")  \n",
    "plt.ylabel(\"Actual Values\") \n",
    "plt.title('Accruacy score : {0}'.format(score),size=15)\n",
    "plt.show()"
   ]
  },
  {
   "cell_type": "markdown",
   "metadata": {},
   "source": [
    "## --NAİVE BAYES\n",
    "##   Separation of the data set into training and test set.\n",
    "##   Registering the classification model.\n",
    "##   Evaluating of the model with test data.\n",
    "##   Calculation and display of model correct classification rates.\n",
    "##   Visualization of the results."
   ]
  },
  {
   "cell_type": "code",
   "execution_count": 116,
   "metadata": {},
   "outputs": [],
   "source": [
    "## --NAIVE BAYES\n",
    "from sklearn.model_selection import train_test_split\n",
    "\n",
    "## Separation of the data set into training and test set.\n",
    "x_train, x_test, y_train, y_test = train_test_split(df, Y, test_size=0.33, random_state=0)"
   ]
  },
  {
   "cell_type": "code",
   "execution_count": 117,
   "metadata": {},
   "outputs": [],
   "source": [
    "from sklearn.naive_bayes import GaussianNB\n",
    "## GaussianNB class was used. In the GaussianNB class, the data to be predicted must be numerical values.\n",
    "gnb= GaussianNB()"
   ]
  },
  {
   "cell_type": "code",
   "execution_count": 118,
   "metadata": {},
   "outputs": [
    {
     "data": {
      "text/plain": [
       "GaussianNB()"
      ]
     },
     "execution_count": 118,
     "metadata": {},
     "output_type": "execute_result"
    }
   ],
   "source": [
    "## Registering the classification model.\n",
    "gnb.fit(x_train,y_train.ravel()) "
   ]
  },
  {
   "cell_type": "code",
   "execution_count": 119,
   "metadata": {},
   "outputs": [],
   "source": [
    "## Evaluating of the model with test data.\n",
    "result = gnb.predict(x_test) "
   ]
  },
  {
   "cell_type": "code",
   "execution_count": 121,
   "metadata": {},
   "outputs": [
    {
     "name": "stdout",
     "output_type": "stream",
     "text": [
      "[[32658  4359]\n",
      " [  118 11927]]\n"
     ]
    }
   ],
   "source": [
    "from sklearn.metrics import confusion_matrix \n",
    "\n",
    "## Calculation and display of model correct classification rates.\n",
    "cm = confusion_matrix(y_test,result)\n",
    "print(cm) "
   ]
  },
  {
   "cell_type": "code",
   "execution_count": 122,
   "metadata": {},
   "outputs": [
    {
     "name": "stdout",
     "output_type": "stream",
     "text": [
      "0.9087481146304676\n"
     ]
    }
   ],
   "source": [
    "from sklearn.metrics import accuracy_score\n",
    "accuracy = accuracy_score(y_test,result)\n",
    "print(accuracy)"
   ]
  },
  {
   "cell_type": "code",
   "execution_count": 123,
   "metadata": {},
   "outputs": [
    {
     "data": {
      "image/png": "[encoded data removed]",
      "text/plain": [
       "<Figure size 432x288 with 2 Axes>"
      ]
     },
     "metadata": {
      "needs_background": "light"
     },
     "output_type": "display_data"
    }
   ],
   "source": [
    "score = metrics.accuracy_score(y_test,result) \n",
    "cm2 = confusion_matrix(y_test,result)  ## confusion matrix\n",
    "\n",
    "## Visualization of the results.\n",
    "sns.heatmap(cm2,annot=True, fmt=\".0f\") \n",
    "plt.xlabel(\"Predicted Values\")  \n",
    "plt.ylabel(\"Actual Values\")  \n",
    "plt.title('Accruacy score : {0}'.format(score),size=15)\n",
    "plt.show()"
   ]
  },
  {
   "cell_type": "markdown",
   "metadata": {},
   "source": [
    "## --DECISION TREES\n",
    "##   Separation of the data set into training and test set.\n",
    "##   Registering the classification model.\n",
    "##   Evaluating of the model with test data.\n",
    "##   Calculation and display of model correct classification rates.\n",
    "##   Visualization of the results."
   ]
  },
  {
   "cell_type": "code",
   "execution_count": 124,
   "metadata": {},
   "outputs": [],
   "source": [
    "## Separation of the data set into training and test set.\n",
    "x_train, x_test, y_train, y_test = train_test_split(df, Y, test_size=0.33, random_state=40)\n"
   ]
  },
  {
   "cell_type": "code",
   "execution_count": 125,
   "metadata": {},
   "outputs": [
    {
     "data": {
      "text/plain": [
       "DecisionTreeClassifier(max_depth=3, random_state=0)"
      ]
     },
     "execution_count": 125,
     "metadata": {},
     "output_type": "execute_result"
    }
   ],
   "source": [
    "## --DECISION TREES\n",
    "from sklearn.tree import DecisionTreeClassifier\n",
    "## Classification by using \"gini index\".\n",
    "clf_gini = DecisionTreeClassifier(criterion='gini', max_depth=3, random_state=0) \n",
    "\n",
    "\n",
    "## Registering the classification model.(gini)\n",
    "clf_gini.fit(x_train, y_train)"
   ]
  },
  {
   "cell_type": "code",
   "execution_count": 126,
   "metadata": {},
   "outputs": [
    {
     "data": {
      "text/plain": [
       "array([0, 0, 0, ..., 0, 0, 0], dtype=int64)"
      ]
     },
     "execution_count": 126,
     "metadata": {},
     "output_type": "execute_result"
    }
   ],
   "source": [
    "y_pred_train_gini = clf_gini.predict(x_train)\n",
    "y_pred_train_gini"
   ]
  },
  {
   "cell_type": "code",
   "execution_count": 127,
   "metadata": {},
   "outputs": [
    {
     "name": "stdout",
     "output_type": "stream",
     "text": [
      "Modelin gini index kullanarak Accuracy Score u: 0.9986\n"
     ]
    }
   ],
   "source": [
    "## Evaluating of the model with test data.(gini)\n",
    "y_pred_gini = clf_gini.predict(x_test)\n",
    "print('Modelin gini index kullanarak Accuracy Score u: {0:0.4f}'.format(accuracy_score(y_test,y_pred_gini)))"
   ]
  },
  {
   "cell_type": "code",
   "execution_count": 128,
   "metadata": {},
   "outputs": [
    {
     "data": {
      "text/plain": [
       "DecisionTreeClassifier(criterion='entropy', max_depth=3, random_state=0)"
      ]
     },
     "execution_count": 128,
     "metadata": {},
     "output_type": "execute_result"
    }
   ],
   "source": [
    "## --DECISION TREES\n",
    "## Classification by using \"ENTROPY\".\n",
    "clf_en = clf_en = DecisionTreeClassifier(criterion='entropy', max_depth=3, random_state=0) \n",
    "\n",
    "## Registering the classification model.(ENTROPY)\n",
    "clf_en.fit(x_train, y_train)"
   ]
  },
  {
   "cell_type": "code",
   "execution_count": 129,
   "metadata": {},
   "outputs": [
    {
     "name": "stdout",
     "output_type": "stream",
     "text": [
      "Modelin entropy kullanarak Accuracy Score u: 0.9991\n"
     ]
    }
   ],
   "source": [
    "## Evaluating of the model with test data.(ENTROPY)\n",
    "y_pred_en = clf_en.predict(x_test)\n",
    "print('Modelin entropy kullanarak Accuracy Score u: {0:0.4f}'.format(accuracy_score(y_test,y_pred_en)))"
   ]
  },
  {
   "cell_type": "code",
   "execution_count": 130,
   "metadata": {},
   "outputs": [
    {
     "name": "stdout",
     "output_type": "stream",
     "text": [
      "Training Set in Accuracy Score u: 0.9992\n"
     ]
    }
   ],
   "source": [
    "y_pred_train_en = clf_en.predict(x_train)\n",
    "y_pred_train_en\n",
    "print('Training Set in Accuracy Score u: {0:0.4f}'.format(accuracy_score(y_train,y_pred_train_en)))"
   ]
  },
  {
   "cell_type": "code",
   "execution_count": 131,
   "metadata": {},
   "outputs": [
    {
     "name": "stdout",
     "output_type": "stream",
     "text": [
      "[[37060     0]\n",
      " [   44 11958]]\n"
     ]
    }
   ],
   "source": [
    "## Calculation and display of model correct classification rates.\n",
    "cm3 = confusion_matrix(y_test,y_pred_en)\n",
    "print(cm3)"
   ]
  },
  {
   "cell_type": "code",
   "execution_count": 132,
   "metadata": {},
   "outputs": [
    {
     "name": "stdout",
     "output_type": "stream",
     "text": [
      "              precision    recall  f1-score   support\n",
      "\n",
      "           0       1.00      1.00      1.00     37060\n",
      "           1       1.00      1.00      1.00     12002\n",
      "\n",
      "    accuracy                           1.00     49062\n",
      "   macro avg       1.00      1.00      1.00     49062\n",
      "weighted avg       1.00      1.00      1.00     49062\n",
      "\n"
     ]
    }
   ],
   "source": [
    "from sklearn.metrics import classification_report \n",
    "print(classification_report(y_test, y_pred_en)) ## Showing detailed reports of classes"
   ]
  },
  {
   "cell_type": "code",
   "execution_count": 133,
   "metadata": {},
   "outputs": [
    {
     "data": {
      "image/png": "[encoded data removed]",
      "text/plain": [
       "<Figure size 432x288 with 2 Axes>"
      ]
     },
     "metadata": {
      "needs_background": "light"
     },
     "output_type": "display_data"
    }
   ],
   "source": [
    "score = metrics.accuracy_score(y_test,y_pred_gini) \n",
    "cm5 = confusion_matrix(y_test,y_pred_gini)  ## confusion matrix\n",
    "\n",
    "## Visualization of the results.\n",
    "sns.heatmap(cm5,annot=True, fmt=\".0f\") \n",
    "plt.xlabel(\"Predicted Values\")  \n",
    "plt.ylabel(\"Actual Values\") \n",
    "plt.title('Accruacy score : {0}'.format(score),size=15)\n",
    "plt.show()"
   ]
  }
 ],
 "metadata": {
  "kernelspec": {
   "display_name": "Python 3 (ipykernel)",
   "language": "python",
   "name": "python3"
  },
  "language_info": {
   "codemirror_mode": {
    "name": "ipython",
    "version": 3
   },
   "file_extension": ".py",
   "mimetype": "text/x-python",
   "name": "python",
   "nbconvert_exporter": "python",
   "pygments_lexer": "ipython3",
   "version": "3.11.5"
  }
 },
 "nbformat": 4,
 "nbformat_minor": 4
}
